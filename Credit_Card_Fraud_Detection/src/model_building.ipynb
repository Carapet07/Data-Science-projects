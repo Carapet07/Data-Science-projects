{
  "cells": [
    {
      "cell_type": "code",
      "execution_count": 31,
      "metadata": {
        "id": "1SdKxK2feGqZ"
      },
      "outputs": [],
      "source": [
        "import os\n",
        "from pathlib import Path\n",
        "import pandas as pd\n",
        "import torch\n",
        "import torch.nn as nn\n",
        "from torch.utils.data import DataLoader, TensorDataset\n",
        "import torch.nn.functional as F\n",
        "import numpy as np\n",
        "from sklearn.model_selection import train_test_split\n",
        "\n",
        "torch.manual_seed(42)\n",
        "np.random.seed(42)"
      ]
    },
    {
      "cell_type": "code",
      "execution_count": 35,
      "metadata": {},
      "outputs": [
        {
          "name": "stdout",
          "output_type": "stream",
          "text": [
            "cpu\n"
          ]
        }
      ],
      "source": [
        "device = torch.device('cuda' if torch.cuda.is_available() else 'cpu')\n",
        "print(device)"
      ]
    },
    {
      "cell_type": "code",
      "execution_count": 32,
      "metadata": {
        "colab": {
          "base_uri": "https://localhost:8080/"
        },
        "id": "lEJDDRqKh7CE",
        "outputId": "46829cfe-1d7d-4a3b-a34e-2ee7a6232f94"
      },
      "outputs": [],
      "source": [
        "dataset_path = Path('../data_cache/cleanedFraudDataset.csv')"
      ]
    },
    {
      "cell_type": "code",
      "execution_count": 19,
      "metadata": {
        "colab": {
          "base_uri": "https://localhost:8080/",
          "height": 255
        },
        "id": "UIDKSL8TlQwf",
        "outputId": "38e6aff7-2bd0-47b5-8689-a5f061ca74f8"
      },
      "outputs": [
        {
          "data": {
            "text/html": [
              "<div>\n",
              "<style scoped>\n",
              "    .dataframe tbody tr th:only-of-type {\n",
              "        vertical-align: middle;\n",
              "    }\n",
              "\n",
              "    .dataframe tbody tr th {\n",
              "        vertical-align: top;\n",
              "    }\n",
              "\n",
              "    .dataframe thead th {\n",
              "        text-align: right;\n",
              "    }\n",
              "</style>\n",
              "<table border=\"1\" class=\"dataframe\">\n",
              "  <thead>\n",
              "    <tr style=\"text-align: right;\">\n",
              "      <th></th>\n",
              "      <th>is_fraud</th>\n",
              "      <th>merchant_encoding</th>\n",
              "      <th>age</th>\n",
              "      <th>user_merchant_distance_km</th>\n",
              "      <th>day_of_week</th>\n",
              "      <th>hour</th>\n",
              "      <th>month</th>\n",
              "      <th>is_weekend</th>\n",
              "      <th>is_night</th>\n",
              "      <th>category_encoded</th>\n",
              "      <th>...</th>\n",
              "      <th>zip_encoded</th>\n",
              "      <th>job_freq</th>\n",
              "      <th>city_freq</th>\n",
              "      <th>gender_encoded</th>\n",
              "      <th>amt_log</th>\n",
              "      <th>city_pop_log</th>\n",
              "      <th>amt_bin_encoded</th>\n",
              "      <th>city_pop_bin_encoded</th>\n",
              "      <th>amt_outlier</th>\n",
              "      <th>city_pop_outlier</th>\n",
              "    </tr>\n",
              "  </thead>\n",
              "  <tbody>\n",
              "    <tr>\n",
              "      <th>0</th>\n",
              "      <td>0</td>\n",
              "      <td>514</td>\n",
              "      <td>31</td>\n",
              "      <td>78.6</td>\n",
              "      <td>6</td>\n",
              "      <td>0</td>\n",
              "      <td>1</td>\n",
              "      <td>1</td>\n",
              "      <td>1</td>\n",
              "      <td>0.014526</td>\n",
              "      <td>...</td>\n",
              "      <td>0.000000</td>\n",
              "      <td>0.002762</td>\n",
              "      <td>0.001579</td>\n",
              "      <td>0</td>\n",
              "      <td>1.786747</td>\n",
              "      <td>8.159375</td>\n",
              "      <td>0</td>\n",
              "      <td>0</td>\n",
              "      <td>0</td>\n",
              "      <td>0</td>\n",
              "    </tr>\n",
              "    <tr>\n",
              "      <th>1</th>\n",
              "      <td>0</td>\n",
              "      <td>241</td>\n",
              "      <td>41</td>\n",
              "      <td>30.2</td>\n",
              "      <td>6</td>\n",
              "      <td>0</td>\n",
              "      <td>1</td>\n",
              "      <td>1</td>\n",
              "      <td>1</td>\n",
              "      <td>0.013973</td>\n",
              "      <td>...</td>\n",
              "      <td>0.000000</td>\n",
              "      <td>0.003930</td>\n",
              "      <td>0.002779</td>\n",
              "      <td>0</td>\n",
              "      <td>4.684259</td>\n",
              "      <td>5.010635</td>\n",
              "      <td>2</td>\n",
              "      <td>0</td>\n",
              "      <td>0</td>\n",
              "      <td>0</td>\n",
              "    </tr>\n",
              "    <tr>\n",
              "      <th>2</th>\n",
              "      <td>0</td>\n",
              "      <td>390</td>\n",
              "      <td>57</td>\n",
              "      <td>108.2</td>\n",
              "      <td>6</td>\n",
              "      <td>0</td>\n",
              "      <td>1</td>\n",
              "      <td>1</td>\n",
              "      <td>1</td>\n",
              "      <td>0.002435</td>\n",
              "      <td>...</td>\n",
              "      <td>0.000000</td>\n",
              "      <td>0.000380</td>\n",
              "      <td>0.000380</td>\n",
              "      <td>1</td>\n",
              "      <td>5.398660</td>\n",
              "      <td>8.332068</td>\n",
              "      <td>2</td>\n",
              "      <td>0</td>\n",
              "      <td>1</td>\n",
              "      <td>0</td>\n",
              "    </tr>\n",
              "    <tr>\n",
              "      <th>3</th>\n",
              "      <td>0</td>\n",
              "      <td>360</td>\n",
              "      <td>52</td>\n",
              "      <td>95.7</td>\n",
              "      <td>6</td>\n",
              "      <td>0</td>\n",
              "      <td>1</td>\n",
              "      <td>1</td>\n",
              "      <td>1</td>\n",
              "      <td>0.004679</td>\n",
              "      <td>...</td>\n",
              "      <td>0.037975</td>\n",
              "      <td>0.001940</td>\n",
              "      <td>0.000377</td>\n",
              "      <td>1</td>\n",
              "      <td>3.828641</td>\n",
              "      <td>7.570443</td>\n",
              "      <td>1</td>\n",
              "      <td>0</td>\n",
              "      <td>0</td>\n",
              "      <td>0</td>\n",
              "    </tr>\n",
              "    <tr>\n",
              "      <th>4</th>\n",
              "      <td>0</td>\n",
              "      <td>297</td>\n",
              "      <td>33</td>\n",
              "      <td>77.6</td>\n",
              "      <td>6</td>\n",
              "      <td>0</td>\n",
              "      <td>1</td>\n",
              "      <td>1</td>\n",
              "      <td>1</td>\n",
              "      <td>0.003008</td>\n",
              "      <td>...</td>\n",
              "      <td>0.000000</td>\n",
              "      <td>0.001571</td>\n",
              "      <td>0.001571</td>\n",
              "      <td>1</td>\n",
              "      <td>3.760269</td>\n",
              "      <td>4.605170</td>\n",
              "      <td>1</td>\n",
              "      <td>0</td>\n",
              "      <td>0</td>\n",
              "      <td>0</td>\n",
              "    </tr>\n",
              "  </tbody>\n",
              "</table>\n",
              "<p>5 rows × 21 columns</p>\n",
              "</div>"
            ],
            "text/plain": [
              "   is_fraud  merchant_encoding  age  user_merchant_distance_km  day_of_week  \\\n",
              "0         0                514   31                       78.6            6   \n",
              "1         0                241   41                       30.2            6   \n",
              "2         0                390   57                      108.2            6   \n",
              "3         0                360   52                       95.7            6   \n",
              "4         0                297   33                       77.6            6   \n",
              "\n",
              "   hour  month  is_weekend  is_night  category_encoded  ...  zip_encoded  \\\n",
              "0     0      1           1         1          0.014526  ...     0.000000   \n",
              "1     0      1           1         1          0.013973  ...     0.000000   \n",
              "2     0      1           1         1          0.002435  ...     0.000000   \n",
              "3     0      1           1         1          0.004679  ...     0.037975   \n",
              "4     0      1           1         1          0.003008  ...     0.000000   \n",
              "\n",
              "   job_freq  city_freq  gender_encoded   amt_log  city_pop_log  \\\n",
              "0  0.002762   0.001579               0  1.786747      8.159375   \n",
              "1  0.003930   0.002779               0  4.684259      5.010635   \n",
              "2  0.000380   0.000380               1  5.398660      8.332068   \n",
              "3  0.001940   0.000377               1  3.828641      7.570443   \n",
              "4  0.001571   0.001571               1  3.760269      4.605170   \n",
              "\n",
              "   amt_bin_encoded  city_pop_bin_encoded  amt_outlier  city_pop_outlier  \n",
              "0                0                     0            0                 0  \n",
              "1                2                     0            0                 0  \n",
              "2                2                     0            1                 0  \n",
              "3                1                     0            0                 0  \n",
              "4                1                     0            0                 0  \n",
              "\n",
              "[5 rows x 21 columns]"
            ]
          },
          "execution_count": 19,
          "metadata": {},
          "output_type": "execute_result"
        }
      ],
      "source": [
        "df = pd.read_csv(dataset_path)\n",
        "df.head()"
      ]
    },
    {
      "cell_type": "code",
      "execution_count": 9,
      "metadata": {
        "colab": {
          "base_uri": "https://localhost:8080/"
        },
        "id": "-ZaMabnrheWK",
        "outputId": "875a5258-abf3-47aa-c7d9-08563aa58989"
      },
      "outputs": [
        {
          "name": "stdout",
          "output_type": "stream",
          "text": [
            "21\n",
            "1048575\n"
          ]
        }
      ],
      "source": [
        "print(len(df.columns))\n",
        "print(len(df))"
      ]
    },
    {
      "cell_type": "markdown",
      "metadata": {},
      "source": [
        "## Splitting the Dataset"
      ]
    },
    {
      "cell_type": "code",
      "execution_count": 33,
      "metadata": {},
      "outputs": [],
      "source": [
        "# Hyperparameters\n",
        "batch_size = 32\n",
        "epochs = 20"
      ]
    },
    {
      "cell_type": "code",
      "execution_count": null,
      "metadata": {},
      "outputs": [
        {
          "name": "stdout",
          "output_type": "stream",
          "text": [
            "train_X 70%: 734002, val_X 15%: 157287, test_X 15%: 157286\n"
          ]
        }
      ],
      "source": [
        "X = df.drop('is_fraud', axis=1)\n",
        "y = df['is_fraud']\n",
        "\n",
        "def create_data_loaders():\n",
        "    train_X, temp_X, train_y, temp_y = train_test_split(X, y, \n",
        "                                                    test_size=0.3,\n",
        "                                                    random_state=42,\n",
        "                                                    stratify=y)\n",
        "\n",
        "    test_X, val_X, test_y, val_y = train_test_split(\n",
        "        temp_X, temp_y,\n",
        "        train_size=0.5,\n",
        "        random_state=42,\n",
        "        stratify=temp_y)\n",
        "\n",
        "    print(f\"train_X 70%: {len(train_X)}, val_X 15%: {len(val_X)}, test_X 15%: {len(test_X)}\")\n",
        "    \n",
        "    # Convert to tensors - Fixed syntax\n",
        "    # Binary Cross Entropy loss expects input shape of [batch_size, 1]\n",
        "    X_train = torch.FloatTensor(train_X.values)\n",
        "    y_train = torch.FloatTensor(train_y.values).unsqueeze(1)  # For BCELoss\n",
        "    X_val = torch.FloatTensor(val_X.values)\n",
        "    y_val = torch.FloatTensor(val_y.values).unsqueeze(1)\n",
        "    X_test = torch.FloatTensor(test_X.values)\n",
        "    y_test = torch.FloatTensor(test_y.values).unsqueeze(1)\n",
        "\n",
        "    # Create datasets\n",
        "    train_dataset = TensorDataset(X_train, y_train)\n",
        "    validation_dataset = TensorDataset(X_val, y_val)\n",
        "    test_dataset = TensorDataset(X_test, y_test)\n",
        "\n",
        "    # Create data loaders\n",
        "    train_loader = DataLoader(train_dataset, batch_size=batch_size, shuffle=True)\n",
        "    valid_loader = DataLoader(validation_dataset, batch_size=batch_size, shuffle=False)\n",
        "    test_loader = DataLoader(test_dataset, batch_size=batch_size, shuffle=False)\n",
        "\n",
        "    return train_loader, valid_loader, test_loader\n",
        "\n",
        "train_loader, valid_loader, test_loader = create_data_loaders()\n"
      ]
    },
    {
      "cell_type": "markdown",
      "metadata": {
        "id": "RcPM1x0sE0c3"
      },
      "source": [
        "## Modle building"
      ]
    },
    {
      "cell_type": "code",
      "execution_count": null,
      "metadata": {
        "id": "0ZVOgoZ46Vmq"
      },
      "outputs": [],
      "source": [
        "class LogisticRegression(nn.Module):\n",
        "  def __init__(self, input_dim):\n",
        "    super().__init__()\n",
        "    self.linear1 = nn.Linear(input_dim, 64)\n",
        "    self.drop1 = nn.Dropout(0.3)\n",
        "    self.linear2 = nn.Linear(64, 32)\n",
        "    self.drop2 = nn.Dropout(0.3)\n",
        "    self.linear3 = nn.Linear(32, 1)\n",
        "\n",
        "  def forward(self, x):\n",
        "    x = self.linear1(x)\n",
        "    x = F.relu(x)\n",
        "    x = self.drop1(x)\n",
        "\n",
        "    x = self.linear2(x)\n",
        "    x = F.relu(x)\n",
        "    x = self.drop2(x)\n",
        "\n",
        "    x = self.linear3(x)\n",
        "    x = F.sigmoid(x)\n",
        "    return x"
      ]
    },
    {
      "cell_type": "code",
      "execution_count": null,
      "metadata": {
        "id": "QEXrkXuA8bfy"
      },
      "outputs": [],
      "source": [
        "logist_model = LogisticRegression(input_dim=20).to(device)\n",
        "criterion = nn.BCELoss()\n",
        "optimizer = torch.optim.Adam(logist_model.parameters(), lr=1e-2)"
      ]
    },
    {
      "cell_type": "code",
      "execution_count": 47,
      "metadata": {},
      "outputs": [
        {
          "name": "stdout",
          "output_type": "stream",
          "text": [
            "[1]: loss: 0.573\n",
            "[2]: loss: 0.573\n",
            "[3]: loss: 0.573\n",
            "[4]: loss: 0.573\n",
            "[5]: loss: 0.573\n",
            "[6]: loss: 0.573\n",
            "[7]: loss: 0.573\n",
            "[8]: loss: 0.573\n",
            "[9]: loss: 0.573\n",
            "[10]: loss: 0.573\n",
            "[11]: loss: 0.573\n",
            "[12]: loss: 0.573\n",
            "[13]: loss: 0.573\n",
            "[14]: loss: 0.573\n",
            "[15]: loss: 0.573\n",
            "[16]: loss: 0.573\n",
            "[17]: loss: 0.573\n",
            "[18]: loss: 0.573\n",
            "[19]: loss: 0.573\n",
            "[20]: loss: 0.573\n",
            "Training Finished\n"
          ]
        }
      ],
      "source": [
        "steps_per_epoch = len(train_loader)\n",
        "\n",
        "for epoch in range(epochs):\n",
        "    total_loss =  0.0\n",
        "    for (inputs, label) in train_loader:\n",
        "        inputs.to(device)\n",
        "        label.to(device)\n",
        "        \n",
        "        outputs = logist_model(inputs)\n",
        "        loss = criterion(outputs, label)\n",
        "        \n",
        "        optimizer.zero_grad()\n",
        "        loss.backward()\n",
        "        optimizer.step()\n",
        "        \n",
        "        total_loss += loss.item()\n",
        "    \n",
        "    print(f\"[{epoch+1}]: loss: {(total_loss / steps_per_epoch):.3f}\")\n",
        "    \n",
        "print('Training Finished')"
      ]
    },
    {
      "cell_type": "code",
      "execution_count": 53,
      "metadata": {},
      "outputs": [
        {
          "name": "stdout",
          "output_type": "stream",
          "text": [
            "Accuracy on test set 0.994\n"
          ]
        }
      ],
      "source": [
        "# Evaluation\n",
        "logist_model.eval()\n",
        "\n",
        "correct_predictions = 0\n",
        "total_predictions = 0\n",
        "\n",
        "with torch.no_grad():\n",
        "    for (batch_features, batch_labels) in test_loader:\n",
        "        batch_features.to(device)\n",
        "        batch_labels.to(device)\n",
        "        \n",
        "        outputs = logist_model(batch_features)\n",
        "        \n",
        "        predicted = (outputs > 0.5).float()\n",
        "        \n",
        "        total_predictions += batch_labels.size(0)\n",
        "        correct_predictions += (predicted == batch_labels).sum().item()\n",
        "        \n",
        "    \n",
        "print(f'Accuracy on test set {correct_predictions / total_predictions:.3f}')"
      ]
    }
  ],
  "metadata": {
    "accelerator": "GPU",
    "colab": {
      "gpuType": "T4",
      "provenance": []
    },
    "kernelspec": {
      "display_name": ".venv",
      "language": "python",
      "name": "python3"
    },
    "language_info": {
      "codemirror_mode": {
        "name": "ipython",
        "version": 3
      },
      "file_extension": ".py",
      "mimetype": "text/x-python",
      "name": "python",
      "nbconvert_exporter": "python",
      "pygments_lexer": "ipython3",
      "version": "3.12.11"
    }
  },
  "nbformat": 4,
  "nbformat_minor": 0
}
