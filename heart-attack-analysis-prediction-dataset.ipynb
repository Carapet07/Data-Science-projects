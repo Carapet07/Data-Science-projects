{
 "cells": [
  {
   "cell_type": "code",
   "execution_count": 1,
   "id": "cb2bc6b3",
   "metadata": {
    "execution": {
     "iopub.execute_input": "2024-08-12T06:44:27.045652Z",
     "iopub.status.busy": "2024-08-12T06:44:27.044541Z",
     "iopub.status.idle": "2024-08-12T06:44:29.577615Z",
     "shell.execute_reply": "2024-08-12T06:44:29.576317Z"
    },
    "id": "Nuou71f02D-R",
    "papermill": {
     "duration": 2.54469,
     "end_time": "2024-08-12T06:44:29.580304",
     "exception": false,
     "start_time": "2024-08-12T06:44:27.035614",
     "status": "completed"
    },
    "tags": []
   },
   "outputs": [],
   "source": [
    "import pandas as pd\n",
    "import numpy as np\n",
    "from sklearn.impute import SimpleImputer\n",
    "from sklearn.model_selection import train_test_split\n",
    "from sklearn.pipeline import Pipeline\n",
    "from sklearn.compose import ColumnTransformer\n",
    "from xgboost import XGBRegressor, XGBClassifier"
   ]
  },
  {
   "cell_type": "code",
   "execution_count": 2,
   "id": "588c8599",
   "metadata": {
    "execution": {
     "iopub.execute_input": "2024-08-12T06:44:29.595210Z",
     "iopub.status.busy": "2024-08-12T06:44:29.594683Z",
     "iopub.status.idle": "2024-08-12T06:44:29.647368Z",
     "shell.execute_reply": "2024-08-12T06:44:29.646203Z"
    },
    "id": "pKrRfY7E2OEf",
    "outputId": "666c701a-efe1-457c-dfce-55bf854f2680",
    "papermill": {
     "duration": 0.062966,
     "end_time": "2024-08-12T06:44:29.649999",
     "exception": false,
     "start_time": "2024-08-12T06:44:29.587033",
     "status": "completed"
    },
    "tags": []
   },
   "outputs": [
    {
     "data": {
      "text/html": [
       "<div>\n",
       "<style scoped>\n",
       "    .dataframe tbody tr th:only-of-type {\n",
       "        vertical-align: middle;\n",
       "    }\n",
       "\n",
       "    .dataframe tbody tr th {\n",
       "        vertical-align: top;\n",
       "    }\n",
       "\n",
       "    .dataframe thead th {\n",
       "        text-align: right;\n",
       "    }\n",
       "</style>\n",
       "<table border=\"1\" class=\"dataframe\">\n",
       "  <thead>\n",
       "    <tr style=\"text-align: right;\">\n",
       "      <th></th>\n",
       "      <th>age</th>\n",
       "      <th>sex</th>\n",
       "      <th>cp</th>\n",
       "      <th>trtbps</th>\n",
       "      <th>chol</th>\n",
       "      <th>fbs</th>\n",
       "      <th>restecg</th>\n",
       "      <th>thalachh</th>\n",
       "      <th>exng</th>\n",
       "      <th>oldpeak</th>\n",
       "      <th>slp</th>\n",
       "      <th>caa</th>\n",
       "      <th>thall</th>\n",
       "      <th>output</th>\n",
       "    </tr>\n",
       "  </thead>\n",
       "  <tbody>\n",
       "    <tr>\n",
       "      <th>0</th>\n",
       "      <td>63</td>\n",
       "      <td>1</td>\n",
       "      <td>3</td>\n",
       "      <td>145</td>\n",
       "      <td>233</td>\n",
       "      <td>1</td>\n",
       "      <td>0</td>\n",
       "      <td>150</td>\n",
       "      <td>0</td>\n",
       "      <td>2.3</td>\n",
       "      <td>0</td>\n",
       "      <td>0</td>\n",
       "      <td>1</td>\n",
       "      <td>1</td>\n",
       "    </tr>\n",
       "    <tr>\n",
       "      <th>1</th>\n",
       "      <td>37</td>\n",
       "      <td>1</td>\n",
       "      <td>2</td>\n",
       "      <td>130</td>\n",
       "      <td>250</td>\n",
       "      <td>0</td>\n",
       "      <td>1</td>\n",
       "      <td>187</td>\n",
       "      <td>0</td>\n",
       "      <td>3.5</td>\n",
       "      <td>0</td>\n",
       "      <td>0</td>\n",
       "      <td>2</td>\n",
       "      <td>1</td>\n",
       "    </tr>\n",
       "    <tr>\n",
       "      <th>2</th>\n",
       "      <td>41</td>\n",
       "      <td>0</td>\n",
       "      <td>1</td>\n",
       "      <td>130</td>\n",
       "      <td>204</td>\n",
       "      <td>0</td>\n",
       "      <td>0</td>\n",
       "      <td>172</td>\n",
       "      <td>0</td>\n",
       "      <td>1.4</td>\n",
       "      <td>2</td>\n",
       "      <td>0</td>\n",
       "      <td>2</td>\n",
       "      <td>1</td>\n",
       "    </tr>\n",
       "    <tr>\n",
       "      <th>3</th>\n",
       "      <td>56</td>\n",
       "      <td>1</td>\n",
       "      <td>1</td>\n",
       "      <td>120</td>\n",
       "      <td>236</td>\n",
       "      <td>0</td>\n",
       "      <td>1</td>\n",
       "      <td>178</td>\n",
       "      <td>0</td>\n",
       "      <td>0.8</td>\n",
       "      <td>2</td>\n",
       "      <td>0</td>\n",
       "      <td>2</td>\n",
       "      <td>1</td>\n",
       "    </tr>\n",
       "    <tr>\n",
       "      <th>4</th>\n",
       "      <td>57</td>\n",
       "      <td>0</td>\n",
       "      <td>0</td>\n",
       "      <td>120</td>\n",
       "      <td>354</td>\n",
       "      <td>0</td>\n",
       "      <td>1</td>\n",
       "      <td>163</td>\n",
       "      <td>1</td>\n",
       "      <td>0.6</td>\n",
       "      <td>2</td>\n",
       "      <td>0</td>\n",
       "      <td>2</td>\n",
       "      <td>1</td>\n",
       "    </tr>\n",
       "  </tbody>\n",
       "</table>\n",
       "</div>"
      ],
      "text/plain": [
       "   age  sex  cp  trtbps  chol  fbs  restecg  thalachh  exng  oldpeak  slp  \\\n",
       "0   63    1   3     145   233    1        0       150     0      2.3    0   \n",
       "1   37    1   2     130   250    0        1       187     0      3.5    0   \n",
       "2   41    0   1     130   204    0        0       172     0      1.4    2   \n",
       "3   56    1   1     120   236    0        1       178     0      0.8    2   \n",
       "4   57    0   0     120   354    0        1       163     1      0.6    2   \n",
       "\n",
       "   caa  thall  output  \n",
       "0    0      1       1  \n",
       "1    0      2       1  \n",
       "2    0      2       1  \n",
       "3    0      2       1  \n",
       "4    0      2       1  "
      ]
     },
     "execution_count": 2,
     "metadata": {},
     "output_type": "execute_result"
    }
   ],
   "source": [
    "df=pd.read_csv(\"/kaggle/input/heart-attack-analysis-prediction-dataset/heart.csv\")\n",
    "df.head()"
   ]
  },
  {
   "cell_type": "code",
   "execution_count": 3,
   "id": "8a8ddc80",
   "metadata": {
    "execution": {
     "iopub.execute_input": "2024-08-12T06:44:29.665333Z",
     "iopub.status.busy": "2024-08-12T06:44:29.664911Z",
     "iopub.status.idle": "2024-08-12T06:44:29.720569Z",
     "shell.execute_reply": "2024-08-12T06:44:29.719496Z"
    },
    "id": "ZPJ06O-94Pde",
    "outputId": "851ecf09-2f26-4349-ffde-704e11fb2da1",
    "papermill": {
     "duration": 0.066995,
     "end_time": "2024-08-12T06:44:29.723714",
     "exception": false,
     "start_time": "2024-08-12T06:44:29.656719",
     "status": "completed"
    },
    "tags": []
   },
   "outputs": [
    {
     "data": {
      "text/html": [
       "<div>\n",
       "<style scoped>\n",
       "    .dataframe tbody tr th:only-of-type {\n",
       "        vertical-align: middle;\n",
       "    }\n",
       "\n",
       "    .dataframe tbody tr th {\n",
       "        vertical-align: top;\n",
       "    }\n",
       "\n",
       "    .dataframe thead th {\n",
       "        text-align: right;\n",
       "    }\n",
       "</style>\n",
       "<table border=\"1\" class=\"dataframe\">\n",
       "  <thead>\n",
       "    <tr style=\"text-align: right;\">\n",
       "      <th></th>\n",
       "      <th>age</th>\n",
       "      <th>sex</th>\n",
       "      <th>cp</th>\n",
       "      <th>trtbps</th>\n",
       "      <th>chol</th>\n",
       "      <th>fbs</th>\n",
       "      <th>restecg</th>\n",
       "      <th>thalachh</th>\n",
       "      <th>exng</th>\n",
       "      <th>oldpeak</th>\n",
       "      <th>slp</th>\n",
       "      <th>caa</th>\n",
       "      <th>thall</th>\n",
       "      <th>output</th>\n",
       "    </tr>\n",
       "  </thead>\n",
       "  <tbody>\n",
       "    <tr>\n",
       "      <th>count</th>\n",
       "      <td>303.000000</td>\n",
       "      <td>303.000000</td>\n",
       "      <td>303.000000</td>\n",
       "      <td>303.000000</td>\n",
       "      <td>303.000000</td>\n",
       "      <td>303.000000</td>\n",
       "      <td>303.000000</td>\n",
       "      <td>303.000000</td>\n",
       "      <td>303.000000</td>\n",
       "      <td>303.000000</td>\n",
       "      <td>303.000000</td>\n",
       "      <td>303.000000</td>\n",
       "      <td>303.000000</td>\n",
       "      <td>303.000000</td>\n",
       "    </tr>\n",
       "    <tr>\n",
       "      <th>mean</th>\n",
       "      <td>54.366337</td>\n",
       "      <td>0.683168</td>\n",
       "      <td>0.966997</td>\n",
       "      <td>131.623762</td>\n",
       "      <td>246.264026</td>\n",
       "      <td>0.148515</td>\n",
       "      <td>0.528053</td>\n",
       "      <td>149.646865</td>\n",
       "      <td>0.326733</td>\n",
       "      <td>1.039604</td>\n",
       "      <td>1.399340</td>\n",
       "      <td>0.729373</td>\n",
       "      <td>2.313531</td>\n",
       "      <td>0.544554</td>\n",
       "    </tr>\n",
       "    <tr>\n",
       "      <th>std</th>\n",
       "      <td>9.082101</td>\n",
       "      <td>0.466011</td>\n",
       "      <td>1.032052</td>\n",
       "      <td>17.538143</td>\n",
       "      <td>51.830751</td>\n",
       "      <td>0.356198</td>\n",
       "      <td>0.525860</td>\n",
       "      <td>22.905161</td>\n",
       "      <td>0.469794</td>\n",
       "      <td>1.161075</td>\n",
       "      <td>0.616226</td>\n",
       "      <td>1.022606</td>\n",
       "      <td>0.612277</td>\n",
       "      <td>0.498835</td>\n",
       "    </tr>\n",
       "    <tr>\n",
       "      <th>min</th>\n",
       "      <td>29.000000</td>\n",
       "      <td>0.000000</td>\n",
       "      <td>0.000000</td>\n",
       "      <td>94.000000</td>\n",
       "      <td>126.000000</td>\n",
       "      <td>0.000000</td>\n",
       "      <td>0.000000</td>\n",
       "      <td>71.000000</td>\n",
       "      <td>0.000000</td>\n",
       "      <td>0.000000</td>\n",
       "      <td>0.000000</td>\n",
       "      <td>0.000000</td>\n",
       "      <td>0.000000</td>\n",
       "      <td>0.000000</td>\n",
       "    </tr>\n",
       "    <tr>\n",
       "      <th>25%</th>\n",
       "      <td>47.500000</td>\n",
       "      <td>0.000000</td>\n",
       "      <td>0.000000</td>\n",
       "      <td>120.000000</td>\n",
       "      <td>211.000000</td>\n",
       "      <td>0.000000</td>\n",
       "      <td>0.000000</td>\n",
       "      <td>133.500000</td>\n",
       "      <td>0.000000</td>\n",
       "      <td>0.000000</td>\n",
       "      <td>1.000000</td>\n",
       "      <td>0.000000</td>\n",
       "      <td>2.000000</td>\n",
       "      <td>0.000000</td>\n",
       "    </tr>\n",
       "    <tr>\n",
       "      <th>50%</th>\n",
       "      <td>55.000000</td>\n",
       "      <td>1.000000</td>\n",
       "      <td>1.000000</td>\n",
       "      <td>130.000000</td>\n",
       "      <td>240.000000</td>\n",
       "      <td>0.000000</td>\n",
       "      <td>1.000000</td>\n",
       "      <td>153.000000</td>\n",
       "      <td>0.000000</td>\n",
       "      <td>0.800000</td>\n",
       "      <td>1.000000</td>\n",
       "      <td>0.000000</td>\n",
       "      <td>2.000000</td>\n",
       "      <td>1.000000</td>\n",
       "    </tr>\n",
       "    <tr>\n",
       "      <th>75%</th>\n",
       "      <td>61.000000</td>\n",
       "      <td>1.000000</td>\n",
       "      <td>2.000000</td>\n",
       "      <td>140.000000</td>\n",
       "      <td>274.500000</td>\n",
       "      <td>0.000000</td>\n",
       "      <td>1.000000</td>\n",
       "      <td>166.000000</td>\n",
       "      <td>1.000000</td>\n",
       "      <td>1.600000</td>\n",
       "      <td>2.000000</td>\n",
       "      <td>1.000000</td>\n",
       "      <td>3.000000</td>\n",
       "      <td>1.000000</td>\n",
       "    </tr>\n",
       "    <tr>\n",
       "      <th>max</th>\n",
       "      <td>77.000000</td>\n",
       "      <td>1.000000</td>\n",
       "      <td>3.000000</td>\n",
       "      <td>200.000000</td>\n",
       "      <td>564.000000</td>\n",
       "      <td>1.000000</td>\n",
       "      <td>2.000000</td>\n",
       "      <td>202.000000</td>\n",
       "      <td>1.000000</td>\n",
       "      <td>6.200000</td>\n",
       "      <td>2.000000</td>\n",
       "      <td>4.000000</td>\n",
       "      <td>3.000000</td>\n",
       "      <td>1.000000</td>\n",
       "    </tr>\n",
       "  </tbody>\n",
       "</table>\n",
       "</div>"
      ],
      "text/plain": [
       "              age         sex          cp      trtbps        chol         fbs  \\\n",
       "count  303.000000  303.000000  303.000000  303.000000  303.000000  303.000000   \n",
       "mean    54.366337    0.683168    0.966997  131.623762  246.264026    0.148515   \n",
       "std      9.082101    0.466011    1.032052   17.538143   51.830751    0.356198   \n",
       "min     29.000000    0.000000    0.000000   94.000000  126.000000    0.000000   \n",
       "25%     47.500000    0.000000    0.000000  120.000000  211.000000    0.000000   \n",
       "50%     55.000000    1.000000    1.000000  130.000000  240.000000    0.000000   \n",
       "75%     61.000000    1.000000    2.000000  140.000000  274.500000    0.000000   \n",
       "max     77.000000    1.000000    3.000000  200.000000  564.000000    1.000000   \n",
       "\n",
       "          restecg    thalachh        exng     oldpeak         slp         caa  \\\n",
       "count  303.000000  303.000000  303.000000  303.000000  303.000000  303.000000   \n",
       "mean     0.528053  149.646865    0.326733    1.039604    1.399340    0.729373   \n",
       "std      0.525860   22.905161    0.469794    1.161075    0.616226    1.022606   \n",
       "min      0.000000   71.000000    0.000000    0.000000    0.000000    0.000000   \n",
       "25%      0.000000  133.500000    0.000000    0.000000    1.000000    0.000000   \n",
       "50%      1.000000  153.000000    0.000000    0.800000    1.000000    0.000000   \n",
       "75%      1.000000  166.000000    1.000000    1.600000    2.000000    1.000000   \n",
       "max      2.000000  202.000000    1.000000    6.200000    2.000000    4.000000   \n",
       "\n",
       "            thall      output  \n",
       "count  303.000000  303.000000  \n",
       "mean     2.313531    0.544554  \n",
       "std      0.612277    0.498835  \n",
       "min      0.000000    0.000000  \n",
       "25%      2.000000    0.000000  \n",
       "50%      2.000000    1.000000  \n",
       "75%      3.000000    1.000000  \n",
       "max      3.000000    1.000000  "
      ]
     },
     "execution_count": 3,
     "metadata": {},
     "output_type": "execute_result"
    }
   ],
   "source": [
    "df.describe()"
   ]
  },
  {
   "cell_type": "markdown",
   "id": "fc704fe6",
   "metadata": {
    "id": "Kgut8w2i9Ock",
    "papermill": {
     "duration": 0.006984,
     "end_time": "2024-08-12T06:44:29.737903",
     "exception": false,
     "start_time": "2024-08-12T06:44:29.730919",
     "status": "completed"
    },
    "tags": []
   },
   "source": [
    "Here are all key features:  \n",
    "Age: Age of the patient |\n",
    "Sex: Gender of the patient (1 = male; 0 = female) |\n",
    "CP (Chest Pain Type): Type of chest pain experienced |\n",
    "Trestbps (Resting Blood Pressure): Resting blood pressure in mm Hg |\n",
    "Chol (Cholesterol): Cholesterol level in mg/dl |\n",
    "FBS (Fasting Blood Sugar): Whether fasting blood sugar is greater than 120 mg/dl (1 = true; 0 = false) |\n",
    "Restecg (Resting Electrocardiographic Results): Results of the resting electrocardiogram |\n",
    "Thalachh (Maximum Heart Rate Achieved): The maximum heart rate achieved |\n",
    "Exng (Exercise Induced Angina): Whether exercise-induced angina is present (1 = yes; 0 = no) |\n",
    "Oldpeak: ST depression induced by exercise relative to rest |\n",
    "Slope: The slope of the peak exercise ST segment |\n",
    "Caa: Number of major vessels (0-3) colored by fluoroscopy |\n",
    "Thall: Thallium stress test result |\n",
    "Output/Target: The target variable, indicating the presence (1) or absence (0) of heart disease |"
   ]
  },
  {
   "cell_type": "code",
   "execution_count": 4,
   "id": "9beee951",
   "metadata": {
    "execution": {
     "iopub.execute_input": "2024-08-12T06:44:29.753924Z",
     "iopub.status.busy": "2024-08-12T06:44:29.753535Z",
     "iopub.status.idle": "2024-08-12T06:44:29.760959Z",
     "shell.execute_reply": "2024-08-12T06:44:29.759939Z"
    },
    "id": "gFzwmOjWA7AC",
    "outputId": "66eb3138-919a-481b-c5a2-0c49e8cf6b58",
    "papermill": {
     "duration": 0.018366,
     "end_time": "2024-08-12T06:44:29.763341",
     "exception": false,
     "start_time": "2024-08-12T06:44:29.744975",
     "status": "completed"
    },
    "tags": []
   },
   "outputs": [
    {
     "data": {
      "text/plain": [
       "Index(['age', 'sex', 'cp', 'trtbps', 'chol', 'fbs', 'restecg', 'thalachh',\n",
       "       'exng', 'oldpeak', 'slp', 'caa', 'thall', 'output'],\n",
       "      dtype='object')"
      ]
     },
     "execution_count": 4,
     "metadata": {},
     "output_type": "execute_result"
    }
   ],
   "source": [
    "df.columns"
   ]
  },
  {
   "cell_type": "markdown",
   "id": "574cca34",
   "metadata": {
    "id": "AvkbUYGP6tuD",
    "papermill": {
     "duration": 0.00696,
     "end_time": "2024-08-12T06:44:29.777580",
     "exception": false,
     "start_time": "2024-08-12T06:44:29.770620",
     "status": "completed"
    },
    "tags": []
   },
   "source": [
    "Read the data"
   ]
  },
  {
   "cell_type": "code",
   "execution_count": 5,
   "id": "d221a372",
   "metadata": {
    "execution": {
     "iopub.execute_input": "2024-08-12T06:44:29.794310Z",
     "iopub.status.busy": "2024-08-12T06:44:29.793378Z",
     "iopub.status.idle": "2024-08-12T06:44:29.807833Z",
     "shell.execute_reply": "2024-08-12T06:44:29.806639Z"
    },
    "id": "IcdpnHKw5spX",
    "papermill": {
     "duration": 0.025573,
     "end_time": "2024-08-12T06:44:29.810421",
     "exception": false,
     "start_time": "2024-08-12T06:44:29.784848",
     "status": "completed"
    },
    "tags": []
   },
   "outputs": [],
   "source": [
    "X = df.drop(['output'], axis=1)\n",
    "y = df.output\n",
    "\n",
    "\n",
    "X_train, X_valid, y_train, y_valid = train_test_split(X, y, train_size=0.8,\n",
    "                                                      test_size=0.2, random_state=0)\n"
   ]
  },
  {
   "cell_type": "markdown",
   "id": "3eddd846",
   "metadata": {
    "id": "7lrDFRAh5NYU",
    "papermill": {
     "duration": 0.007067,
     "end_time": "2024-08-12T06:44:29.824948",
     "exception": false,
     "start_time": "2024-08-12T06:44:29.817881",
     "status": "completed"
    },
    "tags": []
   },
   "source": [
    "#Data Preprocessing\n",
    "1.   Handling Null Values\n",
    "2.   Feature Scaling\n",
    "\n",
    "\n",
    "\n"
   ]
  },
  {
   "cell_type": "markdown",
   "id": "c2f8732f",
   "metadata": {
    "id": "LlfxEJxzP7Pv",
    "papermill": {
     "duration": 0.007068,
     "end_time": "2024-08-12T06:44:29.839283",
     "exception": false,
     "start_time": "2024-08-12T06:44:29.832215",
     "status": "completed"
    },
    "tags": []
   },
   "source": [
    "#Handling Null Values\n"
   ]
  },
  {
   "cell_type": "code",
   "execution_count": 6,
   "id": "02a26669",
   "metadata": {
    "execution": {
     "iopub.execute_input": "2024-08-12T06:44:29.855678Z",
     "iopub.status.busy": "2024-08-12T06:44:29.855116Z",
     "iopub.status.idle": "2024-08-12T06:44:29.875717Z",
     "shell.execute_reply": "2024-08-12T06:44:29.874481Z"
    },
    "id": "119xswJqPlU2",
    "outputId": "da1739c3-0725-4bdb-8e0e-114ed9aa44f3",
    "papermill": {
     "duration": 0.032047,
     "end_time": "2024-08-12T06:44:29.878610",
     "exception": false,
     "start_time": "2024-08-12T06:44:29.846563",
     "status": "completed"
    },
    "tags": []
   },
   "outputs": [
    {
     "name": "stdout",
     "output_type": "stream",
     "text": [
      "<class 'pandas.core.frame.DataFrame'>\n",
      "RangeIndex: 303 entries, 0 to 302\n",
      "Data columns (total 14 columns):\n",
      " #   Column    Non-Null Count  Dtype  \n",
      "---  ------    --------------  -----  \n",
      " 0   age       303 non-null    int64  \n",
      " 1   sex       303 non-null    int64  \n",
      " 2   cp        303 non-null    int64  \n",
      " 3   trtbps    303 non-null    int64  \n",
      " 4   chol      303 non-null    int64  \n",
      " 5   fbs       303 non-null    int64  \n",
      " 6   restecg   303 non-null    int64  \n",
      " 7   thalachh  303 non-null    int64  \n",
      " 8   exng      303 non-null    int64  \n",
      " 9   oldpeak   303 non-null    float64\n",
      " 10  slp       303 non-null    int64  \n",
      " 11  caa       303 non-null    int64  \n",
      " 12  thall     303 non-null    int64  \n",
      " 13  output    303 non-null    int64  \n",
      "dtypes: float64(1), int64(13)\n",
      "memory usage: 33.3 KB\n"
     ]
    }
   ],
   "source": [
    "df.info()"
   ]
  },
  {
   "cell_type": "code",
   "execution_count": 7,
   "id": "2d142e0d",
   "metadata": {
    "execution": {
     "iopub.execute_input": "2024-08-12T06:44:29.895409Z",
     "iopub.status.busy": "2024-08-12T06:44:29.894991Z",
     "iopub.status.idle": "2024-08-12T06:44:29.904522Z",
     "shell.execute_reply": "2024-08-12T06:44:29.903100Z"
    },
    "id": "2b74XoIGQYhv",
    "outputId": "e73b01aa-7d3d-416c-e0d9-0e79ad93403a",
    "papermill": {
     "duration": 0.021071,
     "end_time": "2024-08-12T06:44:29.907080",
     "exception": false,
     "start_time": "2024-08-12T06:44:29.886009",
     "status": "completed"
    },
    "tags": []
   },
   "outputs": [
    {
     "data": {
      "text/plain": [
       "age         0\n",
       "sex         0\n",
       "cp          0\n",
       "trtbps      0\n",
       "chol        0\n",
       "fbs         0\n",
       "restecg     0\n",
       "thalachh    0\n",
       "exng        0\n",
       "oldpeak     0\n",
       "slp         0\n",
       "caa         0\n",
       "thall       0\n",
       "output      0\n",
       "dtype: int64"
      ]
     },
     "execution_count": 7,
     "metadata": {},
     "output_type": "execute_result"
    }
   ],
   "source": [
    "df.isnull().sum()"
   ]
  },
  {
   "cell_type": "markdown",
   "id": "e00c4980",
   "metadata": {
    "id": "jIoUoXc9Qe0K",
    "papermill": {
     "duration": 0.007303,
     "end_time": "2024-08-12T06:44:29.922108",
     "exception": false,
     "start_time": "2024-08-12T06:44:29.914805",
     "status": "completed"
    },
    "tags": []
   },
   "source": [
    "So in our data we don't have any null values but we have missing values, so we can handle with them with imputation. I'll use mean imputation"
   ]
  },
  {
   "cell_type": "code",
   "execution_count": 8,
   "id": "361a673b",
   "metadata": {
    "execution": {
     "iopub.execute_input": "2024-08-12T06:44:29.939620Z",
     "iopub.status.busy": "2024-08-12T06:44:29.939190Z",
     "iopub.status.idle": "2024-08-12T06:44:29.957346Z",
     "shell.execute_reply": "2024-08-12T06:44:29.956281Z"
    },
    "id": "hXpQ7A4nQedj",
    "papermill": {
     "duration": 0.030004,
     "end_time": "2024-08-12T06:44:29.960025",
     "exception": false,
     "start_time": "2024-08-12T06:44:29.930021",
     "status": "completed"
    },
    "tags": []
   },
   "outputs": [],
   "source": [
    "from sklearn.impute import SimpleImputer\n",
    "\n",
    "imputer = SimpleImputer(missing_values=np.nan, strategy='mean')\n",
    "cols_with_miss_vals = [col for col in X_train.columns if X_train[col].isnull().any()]\n",
    "\n",
    "imputed_X_train = pd.DataFrame(imputer.fit_transform(X_train))\n",
    "imputed_X_valid = pd.DataFrame(imputer.transform(X_valid))\n",
    "\n",
    "#Imputer removed colum names, so we put them back\n",
    "\n",
    "imputed_X_train.columns = X_train.columns\n",
    "imputed_X_valid.columns = X_valid.columns"
   ]
  },
  {
   "cell_type": "markdown",
   "id": "56ffcb2f",
   "metadata": {
    "id": "aC3WH1ntbJih",
    "papermill": {
     "duration": 0.007269,
     "end_time": "2024-08-12T06:44:29.974914",
     "exception": false,
     "start_time": "2024-08-12T06:44:29.967645",
     "status": "completed"
    },
    "tags": []
   },
   "source": [
    "#Feature Scaling\n",
    "\n",
    "For the moment I don't know this topic. I will return here after studying it"
   ]
  },
  {
   "cell_type": "code",
   "execution_count": null,
   "id": "ad115ca7",
   "metadata": {
    "id": "FUwBZLScbV9V",
    "papermill": {
     "duration": 0.00797,
     "end_time": "2024-08-12T06:44:29.991013",
     "exception": false,
     "start_time": "2024-08-12T06:44:29.983043",
     "status": "completed"
    },
    "tags": []
   },
   "outputs": [],
   "source": []
  },
  {
   "cell_type": "markdown",
   "id": "78b978a0",
   "metadata": {
    "id": "wiR178CE1NXe",
    "papermill": {
     "duration": 0.008823,
     "end_time": "2024-08-12T06:44:30.007564",
     "exception": false,
     "start_time": "2024-08-12T06:44:29.998741",
     "status": "completed"
    },
    "tags": []
   },
   "source": [
    "#Training The Model\n",
    "\n",
    " Here I will use Regression and Classification models: XGBRegressor and XGBClassifier"
   ]
  },
  {
   "cell_type": "code",
   "execution_count": 9,
   "id": "742fb63d",
   "metadata": {
    "execution": {
     "iopub.execute_input": "2024-08-12T06:44:30.025126Z",
     "iopub.status.busy": "2024-08-12T06:44:30.024399Z",
     "iopub.status.idle": "2024-08-12T06:44:30.828192Z",
     "shell.execute_reply": "2024-08-12T06:44:30.827008Z"
    },
    "id": "IVIkhrIz1RPU",
    "outputId": "18499234-2fef-494b-9514-c1800659acb9",
    "papermill": {
     "duration": 0.815326,
     "end_time": "2024-08-12T06:44:30.830672",
     "exception": false,
     "start_time": "2024-08-12T06:44:30.015346",
     "status": "completed"
    },
    "tags": []
   },
   "outputs": [
    {
     "data": {
      "text/html": [
       "<style>#sk-container-id-1 {color: black;background-color: white;}#sk-container-id-1 pre{padding: 0;}#sk-container-id-1 div.sk-toggleable {background-color: white;}#sk-container-id-1 label.sk-toggleable__label {cursor: pointer;display: block;width: 100%;margin-bottom: 0;padding: 0.3em;box-sizing: border-box;text-align: center;}#sk-container-id-1 label.sk-toggleable__label-arrow:before {content: \"▸\";float: left;margin-right: 0.25em;color: #696969;}#sk-container-id-1 label.sk-toggleable__label-arrow:hover:before {color: black;}#sk-container-id-1 div.sk-estimator:hover label.sk-toggleable__label-arrow:before {color: black;}#sk-container-id-1 div.sk-toggleable__content {max-height: 0;max-width: 0;overflow: hidden;text-align: left;background-color: #f0f8ff;}#sk-container-id-1 div.sk-toggleable__content pre {margin: 0.2em;color: black;border-radius: 0.25em;background-color: #f0f8ff;}#sk-container-id-1 input.sk-toggleable__control:checked~div.sk-toggleable__content {max-height: 200px;max-width: 100%;overflow: auto;}#sk-container-id-1 input.sk-toggleable__control:checked~label.sk-toggleable__label-arrow:before {content: \"▾\";}#sk-container-id-1 div.sk-estimator input.sk-toggleable__control:checked~label.sk-toggleable__label {background-color: #d4ebff;}#sk-container-id-1 div.sk-label input.sk-toggleable__control:checked~label.sk-toggleable__label {background-color: #d4ebff;}#sk-container-id-1 input.sk-hidden--visually {border: 0;clip: rect(1px 1px 1px 1px);clip: rect(1px, 1px, 1px, 1px);height: 1px;margin: -1px;overflow: hidden;padding: 0;position: absolute;width: 1px;}#sk-container-id-1 div.sk-estimator {font-family: monospace;background-color: #f0f8ff;border: 1px dotted black;border-radius: 0.25em;box-sizing: border-box;margin-bottom: 0.5em;}#sk-container-id-1 div.sk-estimator:hover {background-color: #d4ebff;}#sk-container-id-1 div.sk-parallel-item::after {content: \"\";width: 100%;border-bottom: 1px solid gray;flex-grow: 1;}#sk-container-id-1 div.sk-label:hover label.sk-toggleable__label {background-color: #d4ebff;}#sk-container-id-1 div.sk-serial::before {content: \"\";position: absolute;border-left: 1px solid gray;box-sizing: border-box;top: 0;bottom: 0;left: 50%;z-index: 0;}#sk-container-id-1 div.sk-serial {display: flex;flex-direction: column;align-items: center;background-color: white;padding-right: 0.2em;padding-left: 0.2em;position: relative;}#sk-container-id-1 div.sk-item {position: relative;z-index: 1;}#sk-container-id-1 div.sk-parallel {display: flex;align-items: stretch;justify-content: center;background-color: white;position: relative;}#sk-container-id-1 div.sk-item::before, #sk-container-id-1 div.sk-parallel-item::before {content: \"\";position: absolute;border-left: 1px solid gray;box-sizing: border-box;top: 0;bottom: 0;left: 50%;z-index: -1;}#sk-container-id-1 div.sk-parallel-item {display: flex;flex-direction: column;z-index: 1;position: relative;background-color: white;}#sk-container-id-1 div.sk-parallel-item:first-child::after {align-self: flex-end;width: 50%;}#sk-container-id-1 div.sk-parallel-item:last-child::after {align-self: flex-start;width: 50%;}#sk-container-id-1 div.sk-parallel-item:only-child::after {width: 0;}#sk-container-id-1 div.sk-dashed-wrapped {border: 1px dashed gray;margin: 0 0.4em 0.5em 0.4em;box-sizing: border-box;padding-bottom: 0.4em;background-color: white;}#sk-container-id-1 div.sk-label label {font-family: monospace;font-weight: bold;display: inline-block;line-height: 1.2em;}#sk-container-id-1 div.sk-label-container {text-align: center;}#sk-container-id-1 div.sk-container {/* jupyter's `normalize.less` sets `[hidden] { display: none; }` but bootstrap.min.css set `[hidden] { display: none !important; }` so we also need the `!important` here to be able to override the default hidden behavior on the sphinx rendered scikit-learn.org. See: https://github.com/scikit-learn/scikit-learn/issues/21755 */display: inline-block !important;position: relative;}#sk-container-id-1 div.sk-text-repr-fallback {display: none;}</style><div id=\"sk-container-id-1\" class=\"sk-top-container\"><div class=\"sk-text-repr-fallback\"><pre>XGBClassifier(base_score=None, booster=None, callbacks=None,\n",
       "              colsample_bylevel=None, colsample_bynode=None,\n",
       "              colsample_bytree=None, device=None, early_stopping_rounds=None,\n",
       "              enable_categorical=False, eval_metric=None, feature_types=None,\n",
       "              gamma=None, grow_policy=None, importance_type=None,\n",
       "              interaction_constraints=None, learning_rate=0.05, max_bin=None,\n",
       "              max_cat_threshold=None, max_cat_to_onehot=None,\n",
       "              max_delta_step=None, max_depth=None, max_leaves=None,\n",
       "              min_child_weight=None, missing=nan, monotone_constraints=None,\n",
       "              multi_strategy=None, n_estimators=500, n_jobs=4,\n",
       "              num_parallel_tree=None, random_state=None, ...)</pre><b>In a Jupyter environment, please rerun this cell to show the HTML representation or trust the notebook. <br />On GitHub, the HTML representation is unable to render, please try loading this page with nbviewer.org.</b></div><div class=\"sk-container\" hidden><div class=\"sk-item\"><div class=\"sk-estimator sk-toggleable\"><input class=\"sk-toggleable__control sk-hidden--visually\" id=\"sk-estimator-id-1\" type=\"checkbox\" checked><label for=\"sk-estimator-id-1\" class=\"sk-toggleable__label sk-toggleable__label-arrow\">XGBClassifier</label><div class=\"sk-toggleable__content\"><pre>XGBClassifier(base_score=None, booster=None, callbacks=None,\n",
       "              colsample_bylevel=None, colsample_bynode=None,\n",
       "              colsample_bytree=None, device=None, early_stopping_rounds=None,\n",
       "              enable_categorical=False, eval_metric=None, feature_types=None,\n",
       "              gamma=None, grow_policy=None, importance_type=None,\n",
       "              interaction_constraints=None, learning_rate=0.05, max_bin=None,\n",
       "              max_cat_threshold=None, max_cat_to_onehot=None,\n",
       "              max_delta_step=None, max_depth=None, max_leaves=None,\n",
       "              min_child_weight=None, missing=nan, monotone_constraints=None,\n",
       "              multi_strategy=None, n_estimators=500, n_jobs=4,\n",
       "              num_parallel_tree=None, random_state=None, ...)</pre></div></div></div></div></div>"
      ],
      "text/plain": [
       "XGBClassifier(base_score=None, booster=None, callbacks=None,\n",
       "              colsample_bylevel=None, colsample_bynode=None,\n",
       "              colsample_bytree=None, device=None, early_stopping_rounds=None,\n",
       "              enable_categorical=False, eval_metric=None, feature_types=None,\n",
       "              gamma=None, grow_policy=None, importance_type=None,\n",
       "              interaction_constraints=None, learning_rate=0.05, max_bin=None,\n",
       "              max_cat_threshold=None, max_cat_to_onehot=None,\n",
       "              max_delta_step=None, max_depth=None, max_leaves=None,\n",
       "              min_child_weight=None, missing=nan, monotone_constraints=None,\n",
       "              multi_strategy=None, n_estimators=500, n_jobs=4,\n",
       "              num_parallel_tree=None, random_state=None, ...)"
      ]
     },
     "execution_count": 9,
     "metadata": {},
     "output_type": "execute_result"
    }
   ],
   "source": [
    "from xgboost import XGBRegressor, XGBClassifier\n",
    "\n",
    "\n",
    "xgb_regressor = XGBRegressor(n_estimators=500, learning_rate=0.05, n_jobs=4)\n",
    "\n",
    "xgb_regressor.fit(\n",
    "    X_train, y_train,\n",
    "    eval_set=[(X_valid, y_valid)],\n",
    "    verbose=False\n",
    ")\n",
    "\n",
    "xgb_classifier = XGBClassifier(n_estimators=500, learning_rate=0.05, n_jobs=4)\n",
    "\n",
    "xgb_classifier.fit(\n",
    "    X_train, y_train,\n",
    "    eval_set=[(X_valid, y_valid)],\n",
    "    verbose=False\n",
    ")"
   ]
  },
  {
   "cell_type": "markdown",
   "id": "4d11ca89",
   "metadata": {
    "id": "p6EFSIUw5REQ",
    "papermill": {
     "duration": 0.007713,
     "end_time": "2024-08-12T06:44:30.847157",
     "exception": false,
     "start_time": "2024-08-12T06:44:30.839444",
     "status": "completed"
    },
    "tags": []
   },
   "source": [
    "#Making predictions"
   ]
  },
  {
   "cell_type": "code",
   "execution_count": 10,
   "id": "c20fac46",
   "metadata": {
    "execution": {
     "iopub.execute_input": "2024-08-12T06:44:30.865534Z",
     "iopub.status.busy": "2024-08-12T06:44:30.865120Z",
     "iopub.status.idle": "2024-08-12T06:44:30.894509Z",
     "shell.execute_reply": "2024-08-12T06:44:30.893003Z"
    },
    "id": "_iMI9vib5Tbg",
    "outputId": "a169da9b-ef01-4d48-cff8-f9b9ec51b5ac",
    "papermill": {
     "duration": 0.041751,
     "end_time": "2024-08-12T06:44:30.896844",
     "exception": false,
     "start_time": "2024-08-12T06:44:30.855093",
     "status": "completed"
    },
    "tags": []
   },
   "outputs": [
    {
     "name": "stdout",
     "output_type": "stream",
     "text": [
      "0.25722518533880473\n",
      "              precision    recall  f1-score   support\n",
      "\n",
      "           0       0.81      0.76      0.79        29\n",
      "           1       0.79      0.84      0.82        32\n",
      "\n",
      "    accuracy                           0.80        61\n",
      "   macro avg       0.80      0.80      0.80        61\n",
      "weighted avg       0.80      0.80      0.80        61\n",
      "\n",
      "0.19672131147540983\n"
     ]
    }
   ],
   "source": [
    "from sklearn.metrics import mean_absolute_error, classification_report\n",
    "predictions_regressor = xgb_regressor.predict(X_valid)\n",
    "predictions_classifier = xgb_classifier.predict(X_valid)\n",
    "\n",
    "errors = mean_absolute_error(predictions_regressor, y_valid)\n",
    "print(errors)\n",
    "errors2 = classification_report(predictions_classifier, y_valid)\n",
    "print(errors2)\n",
    "print(mean_absolute_error(predictions_classifier, y_valid))\n"
   ]
  }
 ],
 "metadata": {
  "colab": {
   "provenance": []
  },
  "kaggle": {
   "accelerator": "none",
   "dataSources": [
    {
     "datasetId": 1226038,
     "sourceId": 2047221,
     "sourceType": "datasetVersion"
    }
   ],
   "dockerImageVersionId": 30746,
   "isGpuEnabled": false,
   "isInternetEnabled": true,
   "language": "python",
   "sourceType": "notebook"
  },
  "kernelspec": {
   "display_name": "Python 3",
   "language": "python",
   "name": "python3"
  },
  "language_info": {
   "codemirror_mode": {
    "name": "ipython",
    "version": 3
   },
   "file_extension": ".py",
   "mimetype": "text/x-python",
   "name": "python",
   "nbconvert_exporter": "python",
   "pygments_lexer": "ipython3",
   "version": "3.10.13"
  },
  "papermill": {
   "default_parameters": {},
   "duration": 7.496468,
   "end_time": "2024-08-12T06:44:31.525944",
   "environment_variables": {},
   "exception": null,
   "input_path": "__notebook__.ipynb",
   "output_path": "__notebook__.ipynb",
   "parameters": {},
   "start_time": "2024-08-12T06:44:24.029476",
   "version": "2.5.0"
  }
 },
 "nbformat": 4,
 "nbformat_minor": 5
}
