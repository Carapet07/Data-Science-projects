{
  "cells": [
    {
      "cell_type": "markdown",
      "metadata": {
        "id": "view-in-github",
        "colab_type": "text"
      },
      "source": [
        "<a href=\"https://colab.research.google.com/github/Carapet07/Data-Science-projects/blob/main/Temperature_Forecasting(LSTM).ipynb\" target=\"_parent\"><img src=\"https://colab.research.google.com/assets/colab-badge.svg\" alt=\"Open In Colab\"/></a>"
      ]
    },
    {
      "cell_type": "markdown",
      "metadata": {
        "id": "JLCZHp5o-Fde"
      },
      "source": [
        "It's my first project on time series task, all the code I will take from the book: 'Deep learning with python' François Chollet. However I will change it a little, but it's core structure will preserve\n",
        "\n",
        "The dataset I am going to use is The Jena Climate Dataset. A comprehensive weather time series recorded at the Weather Station of the Max Planck Institute for Biogeochemistry in Jena, Germany, spanning from 2009 to 2016. This dataset includes 14 distinct meteorological variables, each measured every 10 minutes, providing detailed insights into the local climate over several years."
      ]
    },
    {
      "cell_type": "code",
      "execution_count": 1,
      "metadata": {
        "id": "soIXc-u2_k4Q"
      },
      "outputs": [],
      "source": [
        "import os\n",
        "import numpy as np\n",
        "import pandas as pd\n",
        "import matplotlib.pyplot as plt\n",
        "import tensorflow as tf\n",
        "from tensorflow import keras\n",
        "from tensorflow.keras import layers\n",
        "from sklearn.preprocessing import MinMaxScaler, StandardScaler\n",
        "from tensorflow.keras.optimizers.schedules import PolynomialDecay\n",
        "from tensorflow.keras.metrics import RootMeanSquaredError"
      ]
    },
    {
      "cell_type": "code",
      "execution_count": 2,
      "metadata": {
        "colab": {
          "base_uri": "https://localhost:8080/"
        },
        "id": "h_sqrV5g9mpC",
        "outputId": "4d57f558-fd3f-4a92-b947-ba26e9fadce2"
      },
      "outputs": [
        {
          "output_type": "stream",
          "name": "stdout",
          "text": [
            "--2025-01-27 15:43:16--  https://s3.amazonaws.com/keras-datasets/jena_climate_2009_2016.csv.zip\n",
            "Resolving s3.amazonaws.com (s3.amazonaws.com)... 52.217.94.38, 52.216.76.182, 16.182.69.88, ...\n",
            "Connecting to s3.amazonaws.com (s3.amazonaws.com)|52.217.94.38|:443... connected.\n",
            "HTTP request sent, awaiting response... 200 OK\n",
            "Length: 13565642 (13M) [application/zip]\n",
            "Saving to: ‘jena_climate_2009_2016.csv.zip’\n",
            "\n",
            "jena_climate_2009_2 100%[===================>]  12.94M  6.80MB/s    in 1.9s    \n",
            "\n",
            "2025-01-27 15:43:19 (6.80 MB/s) - ‘jena_climate_2009_2016.csv.zip’ saved [13565642/13565642]\n",
            "\n",
            "Archive:  jena_climate_2009_2016.csv.zip\n",
            "  inflating: jena_climate_2009_2016.csv  \n",
            "  inflating: __MACOSX/._jena_climate_2009_2016.csv  \n"
          ]
        }
      ],
      "source": [
        "# Get the data and unzip it\n",
        "!wget https://s3.amazonaws.com/keras-datasets/jena_climate_2009_2016.csv.zip\n",
        "!unzip jena_climate_2009_2016.csv.zip"
      ]
    },
    {
      "cell_type": "code",
      "execution_count": 3,
      "metadata": {
        "colab": {
          "base_uri": "https://localhost:8080/"
        },
        "id": "tuaEVDel_okE",
        "outputId": "52dbe55c-c563-424e-e9f2-d3699b950a9c"
      },
      "outputs": [
        {
          "output_type": "stream",
          "name": "stdout",
          "text": [
            "['\"Date Time\"', '\"p (mbar)\"', '\"T (degC)\"', '\"rh (%)\"', '\"VPmax (mbar)\"', '\"VPact (mbar)\"', '\"VPdef (mbar)\"', '\"sh (g/kg)\"', '\"H2OC (mmol/mol)\"', '\"rho (g/m**3)\"', '\"wv (m/s)\"', '\"max. wv (m/s)\"', '\"wd (deg)\"']\n",
            "420451\n"
          ]
        }
      ],
      "source": [
        "fname = os.path.join(\"jena_climate_2009_2016.csv\")\n",
        "\n",
        "with open(fname) as f:\n",
        "  data = f.read()\n",
        "\n",
        "lines = data.split(\"\\n\")\n",
        "header = lines[0].split(\",\")\n",
        "header = [col for col in header if col not in ['\"Tpot (K)\"', '\"Tdew (degC)\"']]\n",
        "lines = lines[1:]\n",
        "print(header)\n",
        "print(len(lines))"
      ]
    },
    {
      "cell_type": "code",
      "execution_count": 4,
      "metadata": {
        "colab": {
          "base_uri": "https://localhost:8080/",
          "height": 35
        },
        "id": "MlORTphvEqfp",
        "outputId": "91f60701-36e9-4fb9-e7df-c3da81c54ab5"
      },
      "outputs": [
        {
          "output_type": "execute_result",
          "data": {
            "text/plain": [
              "'01.01.2009 00:20:00,996.57,-8.41,265.01,-9.28,93.40,3.23,3.02,0.21,1.89,3.03,1309.80,0.72,1.50,136.10'"
            ],
            "application/vnd.google.colaboratory.intrinsic+json": {
              "type": "string"
            }
          },
          "metadata": {},
          "execution_count": 4
        }
      ],
      "source": [
        "lines[1]"
      ]
    },
    {
      "cell_type": "code",
      "source": [
        "df = pd.read_csv(fname)\n",
        "\n",
        "df['Date Time'] = pd.to_datetime(df['Date Time'], format=\"%d.%m.%Y %H:%M:%S\")\n",
        "\n",
        "\n"
      ],
      "metadata": {
        "id": "uFsG2BmbVe4j"
      },
      "execution_count": 5,
      "outputs": []
    },
    {
      "cell_type": "markdown",
      "metadata": {
        "id": "_llhSjVID81x"
      },
      "source": [
        "Date Time: Timestamp of the observation.\n",
        "\n",
        "p (mbar): Atmospheric pressure in millibars.\n",
        "\n",
        "T (°C): Temperature in degrees Celsius.\n",
        "\n",
        "Tpot (K): Potential temperature in Kelvin.\n",
        "\n",
        "Tdew (°C): Dew point temperature in degrees Celsius.\n",
        "\n",
        "rh (%): Relative humidity percentage.\n",
        "\n",
        "VPmax (mbar): Maximum vapor pressure.\n",
        "\n",
        "VPact (mbar): Actual vapor pressure.\n",
        "\n",
        "VPdef (mbar): Vapor pressure deficit.\n",
        "\n",
        "sh (g/kg): Specific humidity in grams per kilogram.\n",
        "\n",
        "H2OC (mmol/mol): Water vapor concentration.\n",
        "\n",
        "rho (g/m³): Air density in grams per cubic meter.\n",
        "\n",
        "wv (m/s): Wind speed in meters per second.\n",
        "\n",
        "max. wv (m/s): Maximum wind speed in meters per second.\n",
        "\n",
        "wd (deg): Wind direction in degrees."
      ]
    },
    {
      "cell_type": "markdown",
      "metadata": {
        "id": "8x4nLxZfEVEI"
      },
      "source": [
        "# Divide the data into 2 numpy arrays:\n",
        "Temperature data I am going to store column 1 in 'temperature'\n",
        "\n",
        "And all columns including temeprature in 'raw_data'"
      ]
    },
    {
      "cell_type": "code",
      "execution_count": 6,
      "metadata": {
        "id": "8IO8NYF5DdSf"
      },
      "outputs": [],
      "source": [
        "temperature = np.zeros(len(lines))\n",
        "raw_data = np.zeros((len(lines), len(header) - 1))\n",
        "\n",
        "for i, value in enumerate(lines):\n",
        "  values = [float(x) for x in value.split(',')[1:]]\n",
        "  temperature[i] = values[1]\n",
        "  raw_data[i, :] = values[:1] + values[3:] # skip removed Tpot and Tdew"
      ]
    },
    {
      "cell_type": "code",
      "execution_count": 7,
      "metadata": {
        "id": "7qsOXz66my8P",
        "colab": {
          "base_uri": "https://localhost:8080/"
        },
        "outputId": "24f3f3df-37fd-4a26-b4b3-405d7d08bdbc"
      },
      "outputs": [
        {
          "output_type": "stream",
          "name": "stdout",
          "text": [
            "(420451, 12)\n",
            "(420451,)\n"
          ]
        }
      ],
      "source": [
        "print(raw_data.shape)\n",
        "print(temperature.shape)"
      ]
    },
    {
      "cell_type": "code",
      "execution_count": 8,
      "metadata": {
        "id": "_Qc0o1TZHKUq",
        "colab": {
          "base_uri": "https://localhost:8080/",
          "height": 434
        },
        "outputId": "17486788-e486-48f1-b662-f5ceaeb50944"
      },
      "outputs": [
        {
          "output_type": "display_data",
          "data": {
            "text/plain": [
              "<Figure size 640x480 with 1 Axes>"
            ],
            "image/png": "[encoded data removed]"
          },
          "metadata": {}
        }
      ],
      "source": [
        "plt.plot(range(len(temperature)), temperature);"
      ]
    },
    {
      "cell_type": "markdown",
      "metadata": {
        "id": "PC4LaJwEJ-kQ"
      },
      "source": [
        "This is more narrow plot of the first 10 days of temperature data. Because the data is recorded every 10 minutes, we get 24 x 6 = 144 data points per day"
      ]
    },
    {
      "cell_type": "code",
      "execution_count": 9,
      "metadata": {
        "id": "I-OPGHG7Ibnu",
        "colab": {
          "base_uri": "https://localhost:8080/",
          "height": 430
        },
        "outputId": "db86dca9-b0c4-4392-90f9-2e520d1bd6fb"
      },
      "outputs": [
        {
          "output_type": "display_data",
          "data": {
            "text/plain": [
              "<Figure size 640x480 with 1 Axes>"
            ],
            "image/png": "[encoded data removed]"
          },
          "metadata": {}
        }
      ],
      "source": [
        "plt.plot(range(1440), temperature[:1440]);"
      ]
    },
    {
      "cell_type": "markdown",
      "source": [
        "##Feature Preprocessing"
      ],
      "metadata": {
        "id": "yPPtDKYEQzTS"
      }
    },
    {
      "cell_type": "markdown",
      "metadata": {
        "id": "vKvLTIhgLzDj"
      },
      "source": [
        "When working with timeseries data, it's important to use more validation and test data, because you're trying to predict the future given the past, not the reverse. And your validation and test splits should reflect that."
      ]
    },
    {
      "cell_type": "code",
      "execution_count": 10,
      "metadata": {
        "id": "OasoD1PFOr-o",
        "colab": {
          "base_uri": "https://localhost:8080/"
        },
        "outputId": "6b6bbd3c-2d61-4a95-a2c2-20f10587bbd0"
      },
      "outputs": [
        {
          "output_type": "stream",
          "name": "stdout",
          "text": [
            "Num_Train_Samples 210225\n",
            "Num_Valid_Samples 105112\n",
            "Num_Test_Samples 105114\n"
          ]
        }
      ],
      "source": [
        "num_train_samples = int(0.5 * len(raw_data))\n",
        "num_valid_samples = int(0.25 * len(raw_data))\n",
        "num_test_samples = len(raw_data) - num_train_samples - num_valid_samples\n",
        "\n",
        "mean = raw_data[:num_train_samples].mean(axis=0)\n",
        "raw_data -= mean\n",
        "std = raw_data[:num_train_samples].std(axis=0)\n",
        "raw_data /= std\n",
        "\n",
        "print('Num_Train_Samples', num_train_samples)\n",
        "print('Num_Valid_Samples', num_valid_samples)\n",
        "print('Num_Test_Samples', num_test_samples)"
      ]
    },
    {
      "cell_type": "code",
      "execution_count": 11,
      "metadata": {
        "id": "R2Vr95NnQyrw"
      },
      "outputs": [],
      "source": [
        "sampling_rate = 6\n",
        "sequence_length = 120\n",
        "delay = sampling_rate * (sequence_length + 24 - 1)\n",
        "batch_size = 256\n",
        "\n",
        "train_dataset = keras.utils.timeseries_dataset_from_array(\n",
        "    raw_data[:-delay],\n",
        "    targets=temperature[delay:],\n",
        "    sampling_rate=sampling_rate,\n",
        "    sequence_length=sequence_length,\n",
        "    shuffle=True,\n",
        "    batch_size=batch_size,\n",
        "    start_index=0,\n",
        "    end_index=num_train_samples\n",
        ")\n",
        "\n",
        "val_dataset = keras.utils.timeseries_dataset_from_array(\n",
        "    raw_data[:-delay],\n",
        "    targets=temperature[delay:],\n",
        "    sampling_rate=sampling_rate,\n",
        "    sequence_length=sequence_length,\n",
        "    shuffle=True,\n",
        "    batch_size=batch_size,\n",
        "    start_index=num_train_samples,\n",
        "    end_index=num_train_samples + num_test_samples\n",
        ")\n",
        "\n",
        "test_dataset = keras.utils.timeseries_dataset_from_array(\n",
        "    raw_data[:-delay],\n",
        "    targets=temperature[delay:],\n",
        "    sampling_rate=sampling_rate,\n",
        "    sequence_length=sequence_length,\n",
        "    shuffle=True,\n",
        "    batch_size=batch_size,\n",
        "    start_index=num_train_samples + num_valid_samples\n",
        ")\n"
      ]
    },
    {
      "cell_type": "markdown",
      "metadata": {
        "id": "fUw1VxVJkSvZ"
      },
      "source": [
        "Each dataset yields a tuple (samples, targets)"
      ]
    },
    {
      "cell_type": "code",
      "execution_count": 12,
      "metadata": {
        "id": "7tX81z3olRpJ",
        "colab": {
          "base_uri": "https://localhost:8080/"
        },
        "outputId": "09e79a39-c882-4780-b16c-5f3ce18192b0"
      },
      "outputs": [
        {
          "output_type": "stream",
          "name": "stdout",
          "text": [
            "train samples:  (256, 120, 12)\n",
            "train targets: (256,)\n"
          ]
        }
      ],
      "source": [
        "for samples, targets in train_dataset:\n",
        "  print('train samples: ', samples.shape)\n",
        "  print('train targets:', targets.shape)\n",
        "  break"
      ]
    },
    {
      "cell_type": "markdown",
      "metadata": {
        "id": "oGWOnbSsmNwQ"
      },
      "source": [
        "256 sequences, each sequence contains 120 sampled data points(time steps) and 14 is the number of features in each time step"
      ]
    },
    {
      "cell_type": "code",
      "execution_count": 13,
      "metadata": {
        "id": "HUTo9lrICwyl"
      },
      "outputs": [],
      "source": [
        "inputs = keras.Input(shape=(sequence_length, raw_data.shape[-1]))\n",
        "x = layers.Bidirectional(layers.LSTM(256, recurrent_dropout=0.3, return_sequences=True))(inputs)\n",
        "#x = layers.BatchNormalization()(x)\n",
        "x = layers.Bidirectional(layers.LSTM(128, recurrent_dropout=0.3, return_sequences=True))(x)\n",
        "#x = layers.BatchNormalization()(x)\n",
        "x = layers.Bidirectional(layers.LSTM(64, recurrent_dropout=0.3, return_sequences=False))(x)\n",
        "#x = layers.Dropout(0.3)(x)\n",
        "outputs = layers.Dense(1)(x)\n",
        "model = keras.Model(inputs, outputs)\n",
        "\n",
        "callbacks = [\n",
        "    keras.callbacks.ModelCheckpoint(\"jena_lstm_dropout.keras\",\n",
        "                                             save_best_only=True)\n",
        "\n",
        "]\n",
        "epochs=20\n",
        "num_train_steps = len(train_dataset) * epochs\n",
        "lr_scheduler = PolynomialDecay(initial_learning_rate=1e-3, end_learning_rate=0.0, decay_steps=num_train_steps)\n",
        "\n",
        "\n",
        "model.compile(optimizer=tf.keras.optimizers.Adam(learning_rate=lr_scheduler), loss='mse', metrics=[RootMeanSquaredError()])"
      ]
    },
    {
      "cell_type": "code",
      "execution_count": 14,
      "metadata": {
        "id": "ebNAONFqwrE1",
        "colab": {
          "base_uri": "https://localhost:8080/"
        },
        "outputId": "b9662ba6-c347-4b06-f500-82bbad5fceda"
      },
      "outputs": [
        {
          "output_type": "stream",
          "name": "stdout",
          "text": [
            "Epoch 1/20\n",
            "\u001b[1m819/819\u001b[0m \u001b[32m━━━━━━━━━━━━━━━━━━━━\u001b[0m\u001b[37m\u001b[0m \u001b[1m943s\u001b[0m 1s/step - loss: 21.2128 - root_mean_squared_error: 4.4356 - val_loss: 9.0975 - val_root_mean_squared_error: 3.0162\n",
            "Epoch 2/20\n",
            "\u001b[1m819/819\u001b[0m \u001b[32m━━━━━━━━━━━━━━━━━━━━\u001b[0m\u001b[37m\u001b[0m \u001b[1m992s\u001b[0m 1s/step - loss: 7.9857 - root_mean_squared_error: 2.8248 - val_loss: 9.9951 - val_root_mean_squared_error: 3.1615\n",
            "Epoch 3/20\n",
            "\u001b[1m819/819\u001b[0m \u001b[32m━━━━━━━━━━━━━━━━━━━━\u001b[0m\u001b[37m\u001b[0m \u001b[1m961s\u001b[0m 1s/step - loss: 5.3521 - root_mean_squared_error: 2.3123 - val_loss: 11.4750 - val_root_mean_squared_error: 3.3875\n",
            "Epoch 4/20\n",
            "\u001b[1m819/819\u001b[0m \u001b[32m━━━━━━━━━━━━━━━━━━━━\u001b[0m\u001b[37m\u001b[0m \u001b[1m971s\u001b[0m 1s/step - loss: 3.4033 - root_mean_squared_error: 1.8439 - val_loss: 11.8993 - val_root_mean_squared_error: 3.4495\n",
            "Epoch 5/20\n",
            "\u001b[1m819/819\u001b[0m \u001b[32m━━━━━━━━━━━━━━━━━━━━\u001b[0m\u001b[37m\u001b[0m \u001b[1m962s\u001b[0m 1s/step - loss: 2.3279 - root_mean_squared_error: 1.5252 - val_loss: 11.7066 - val_root_mean_squared_error: 3.4215\n",
            "Epoch 6/20\n",
            "\u001b[1m819/819\u001b[0m \u001b[32m━━━━━━━━━━━━━━━━━━━━\u001b[0m\u001b[37m\u001b[0m \u001b[1m984s\u001b[0m 1s/step - loss: 1.7230 - root_mean_squared_error: 1.3123 - val_loss: 12.1312 - val_root_mean_squared_error: 3.4830\n",
            "Epoch 7/20\n",
            "\u001b[1m819/819\u001b[0m \u001b[32m━━━━━━━━━━━━━━━━━━━━\u001b[0m\u001b[37m\u001b[0m \u001b[1m945s\u001b[0m 1s/step - loss: 1.3687 - root_mean_squared_error: 1.1697 - val_loss: 11.8774 - val_root_mean_squared_error: 3.4464\n",
            "Epoch 8/20\n",
            "\u001b[1m819/819\u001b[0m \u001b[32m━━━━━━━━━━━━━━━━━━━━\u001b[0m\u001b[37m\u001b[0m \u001b[1m973s\u001b[0m 1s/step - loss: 1.1085 - root_mean_squared_error: 1.0528 - val_loss: 11.5440 - val_root_mean_squared_error: 3.3976\n",
            "Epoch 9/20\n",
            "\u001b[1m819/819\u001b[0m \u001b[32m━━━━━━━━━━━━━━━━━━━━\u001b[0m\u001b[37m\u001b[0m \u001b[1m950s\u001b[0m 1s/step - loss: 0.9570 - root_mean_squared_error: 0.9781 - val_loss: 11.6127 - val_root_mean_squared_error: 3.4077\n",
            "Epoch 10/20\n",
            "\u001b[1m819/819\u001b[0m \u001b[32m━━━━━━━━━━━━━━━━━━━━\u001b[0m\u001b[37m\u001b[0m \u001b[1m990s\u001b[0m 1s/step - loss: 0.8290 - root_mean_squared_error: 0.9105 - val_loss: 11.5038 - val_root_mean_squared_error: 3.3917\n",
            "Epoch 11/20\n",
            "\u001b[1m819/819\u001b[0m \u001b[32m━━━━━━━━━━━━━━━━━━━━\u001b[0m\u001b[37m\u001b[0m \u001b[1m972s\u001b[0m 1s/step - loss: 0.7333 - root_mean_squared_error: 0.8563 - val_loss: 11.6894 - val_root_mean_squared_error: 3.4190\n",
            "Epoch 12/20\n",
            "\u001b[1m819/819\u001b[0m \u001b[32m━━━━━━━━━━━━━━━━━━━━\u001b[0m\u001b[37m\u001b[0m \u001b[1m940s\u001b[0m 1s/step - loss: 0.6532 - root_mean_squared_error: 0.8082 - val_loss: 11.3043 - val_root_mean_squared_error: 3.3622\n",
            "Epoch 13/20\n",
            "\u001b[1m819/819\u001b[0m \u001b[32m━━━━━━━━━━━━━━━━━━━━\u001b[0m\u001b[37m\u001b[0m \u001b[1m928s\u001b[0m 1s/step - loss: 0.5945 - root_mean_squared_error: 0.7710 - val_loss: 11.5204 - val_root_mean_squared_error: 3.3942\n",
            "Epoch 14/20\n",
            "\u001b[1m819/819\u001b[0m \u001b[32m━━━━━━━━━━━━━━━━━━━━\u001b[0m\u001b[37m\u001b[0m \u001b[1m925s\u001b[0m 1s/step - loss: 0.5382 - root_mean_squared_error: 0.7336 - val_loss: 11.3853 - val_root_mean_squared_error: 3.3742\n",
            "Epoch 15/20\n",
            "\u001b[1m819/819\u001b[0m \u001b[32m━━━━━━━━━━━━━━━━━━━━\u001b[0m\u001b[37m\u001b[0m \u001b[1m984s\u001b[0m 1s/step - loss: 0.4991 - root_mean_squared_error: 0.7064 - val_loss: 11.3884 - val_root_mean_squared_error: 3.3747\n",
            "Epoch 16/20\n",
            "\u001b[1m819/819\u001b[0m \u001b[32m━━━━━━━━━━━━━━━━━━━━\u001b[0m\u001b[37m\u001b[0m \u001b[1m982s\u001b[0m 1s/step - loss: 0.4598 - root_mean_squared_error: 0.6781 - val_loss: 11.2971 - val_root_mean_squared_error: 3.3611\n",
            "Epoch 17/20\n",
            "\u001b[1m819/819\u001b[0m \u001b[32m━━━━━━━━━━━━━━━━━━━━\u001b[0m\u001b[37m\u001b[0m \u001b[1m928s\u001b[0m 1s/step - loss: 0.4277 - root_mean_squared_error: 0.6540 - val_loss: 11.2597 - val_root_mean_squared_error: 3.3555\n",
            "Epoch 18/20\n",
            "\u001b[1m819/819\u001b[0m \u001b[32m━━━━━━━━━━━━━━━━━━━━\u001b[0m\u001b[37m\u001b[0m \u001b[1m985s\u001b[0m 1s/step - loss: 0.4006 - root_mean_squared_error: 0.6329 - val_loss: 11.2395 - val_root_mean_squared_error: 3.3525\n",
            "Epoch 19/20\n",
            "\u001b[1m819/819\u001b[0m \u001b[32m━━━━━━━━━━━━━━━━━━━━\u001b[0m\u001b[37m\u001b[0m \u001b[1m941s\u001b[0m 1s/step - loss: 0.3788 - root_mean_squared_error: 0.6154 - val_loss: 11.2264 - val_root_mean_squared_error: 3.3506\n",
            "Epoch 20/20\n",
            "\u001b[1m819/819\u001b[0m \u001b[32m━━━━━━━━━━━━━━━━━━━━\u001b[0m\u001b[37m\u001b[0m \u001b[1m986s\u001b[0m 1s/step - loss: 0.3629 - root_mean_squared_error: 0.6024 - val_loss: 11.1933 - val_root_mean_squared_error: 3.3456\n"
          ]
        }
      ],
      "source": [
        "history = model.fit(train_dataset,\n",
        "                    validation_data=val_dataset,\n",
        "                    epochs=20,\n",
        "                    callbacks=callbacks)"
      ]
    },
    {
      "cell_type": "code",
      "source": [
        "model.save('lstm_temperature.h5')\n",
        "\n",
        "# load model\n",
        "new_model = tf.keras.models.load_model('lstm_temperature.h5')"
      ],
      "metadata": {
        "id": "ZmrE6PJZg4EA",
        "colab": {
          "base_uri": "https://localhost:8080/",
          "height": 402
        },
        "outputId": "9f584652-5df7-4773-f590-eca561ada7f1"
      },
      "execution_count": 15,
      "outputs": [
        {
          "output_type": "stream",
          "name": "stderr",
          "text": [
            "WARNING:absl:You are saving your model as an HDF5 file via `model.save()` or `keras.saving.save_model(model)`. This file format is considered legacy. We recommend using instead the native Keras format, e.g. `model.save('my_model.keras')` or `keras.saving.save_model(model, 'my_model.keras')`. \n"
          ]
        },
        {
          "output_type": "error",
          "ename": "TypeError",
          "evalue": "Could not locate function 'mse'. Make sure custom classes are decorated with `@keras.saving.register_keras_serializable()`. Full object config: {'module': 'keras.metrics', 'class_name': 'function', 'config': 'mse', 'registered_name': 'mse'}",
          "traceback": [
            "\u001b[0;31m---------------------------------------------------------------------------\u001b[0m",
            "\u001b[0;31mTypeError\u001b[0m                                 Traceback (most recent call last)",
            "\u001b[0;32m<ipython-input-15-05eb5fb2fcf6>\u001b[0m in \u001b[0;36m<cell line: 0>\u001b[0;34m()\u001b[0m\n\u001b[1;32m      2\u001b[0m \u001b[0;34m\u001b[0m\u001b[0m\n\u001b[1;32m      3\u001b[0m \u001b[0;31m# load model\u001b[0m\u001b[0;34m\u001b[0m\u001b[0;34m\u001b[0m\u001b[0m\n\u001b[0;32m----> 4\u001b[0;31m \u001b[0mnew_model\u001b[0m \u001b[0;34m=\u001b[0m \u001b[0mtf\u001b[0m\u001b[0;34m.\u001b[0m\u001b[0mkeras\u001b[0m\u001b[0;34m.\u001b[0m\u001b[0mmodels\u001b[0m\u001b[0;34m.\u001b[0m\u001b[0mload_model\u001b[0m\u001b[0;34m(\u001b[0m\u001b[0;34m'lstm_temperature.h5'\u001b[0m\u001b[0;34m)\u001b[0m\u001b[0;34m\u001b[0m\u001b[0;34m\u001b[0m\u001b[0m\n\u001b[0m",
            "\u001b[0;32m/usr/local/lib/python3.11/dist-packages/keras/src/saving/saving_api.py\u001b[0m in \u001b[0;36mload_model\u001b[0;34m(filepath, custom_objects, compile, safe_mode)\u001b[0m\n\u001b[1;32m    192\u001b[0m         )\n\u001b[1;32m    193\u001b[0m     \u001b[0;32mif\u001b[0m \u001b[0mstr\u001b[0m\u001b[0;34m(\u001b[0m\u001b[0mfilepath\u001b[0m\u001b[0;34m)\u001b[0m\u001b[0;34m.\u001b[0m\u001b[0mendswith\u001b[0m\u001b[0;34m(\u001b[0m\u001b[0;34m(\u001b[0m\u001b[0;34m\".h5\"\u001b[0m\u001b[0;34m,\u001b[0m \u001b[0;34m\".hdf5\"\u001b[0m\u001b[0;34m)\u001b[0m\u001b[0;34m)\u001b[0m\u001b[0;34m:\u001b[0m\u001b[0;34m\u001b[0m\u001b[0;34m\u001b[0m\u001b[0m\n\u001b[0;32m--> 194\u001b[0;31m         return legacy_h5_format.load_model_from_hdf5(\n\u001b[0m\u001b[1;32m    195\u001b[0m             \u001b[0mfilepath\u001b[0m\u001b[0;34m,\u001b[0m \u001b[0mcustom_objects\u001b[0m\u001b[0;34m=\u001b[0m\u001b[0mcustom_objects\u001b[0m\u001b[0;34m,\u001b[0m \u001b[0mcompile\u001b[0m\u001b[0;34m=\u001b[0m\u001b[0mcompile\u001b[0m\u001b[0;34m\u001b[0m\u001b[0;34m\u001b[0m\u001b[0m\n\u001b[1;32m    196\u001b[0m         )\n",
            "\u001b[0;32m/usr/local/lib/python3.11/dist-packages/keras/src/legacy/saving/legacy_h5_format.py\u001b[0m in \u001b[0;36mload_model_from_hdf5\u001b[0;34m(filepath, custom_objects, compile)\u001b[0m\n\u001b[1;32m    153\u001b[0m             \u001b[0;31m# Compile model.\u001b[0m\u001b[0;34m\u001b[0m\u001b[0;34m\u001b[0m\u001b[0m\n\u001b[1;32m    154\u001b[0m             model.compile(\n\u001b[0;32m--> 155\u001b[0;31m                 **saving_utils.compile_args_from_training_config(\n\u001b[0m\u001b[1;32m    156\u001b[0m                     \u001b[0mtraining_config\u001b[0m\u001b[0;34m,\u001b[0m \u001b[0mcustom_objects\u001b[0m\u001b[0;34m\u001b[0m\u001b[0;34m\u001b[0m\u001b[0m\n\u001b[1;32m    157\u001b[0m                 )\n",
            "\u001b[0;32m/usr/local/lib/python3.11/dist-packages/keras/src/legacy/saving/saving_utils.py\u001b[0m in \u001b[0;36mcompile_args_from_training_config\u001b[0;34m(training_config, custom_objects)\u001b[0m\n\u001b[1;32m    141\u001b[0m         \u001b[0mloss_config\u001b[0m \u001b[0;34m=\u001b[0m \u001b[0mtraining_config\u001b[0m\u001b[0;34m.\u001b[0m\u001b[0mget\u001b[0m\u001b[0;34m(\u001b[0m\u001b[0;34m\"loss\"\u001b[0m\u001b[0;34m,\u001b[0m \u001b[0;32mNone\u001b[0m\u001b[0;34m)\u001b[0m\u001b[0;34m\u001b[0m\u001b[0;34m\u001b[0m\u001b[0m\n\u001b[1;32m    142\u001b[0m         \u001b[0;32mif\u001b[0m \u001b[0mloss_config\u001b[0m \u001b[0;32mis\u001b[0m \u001b[0;32mnot\u001b[0m \u001b[0;32mNone\u001b[0m\u001b[0;34m:\u001b[0m\u001b[0;34m\u001b[0m\u001b[0;34m\u001b[0m\u001b[0m\n\u001b[0;32m--> 143\u001b[0;31m             \u001b[0mloss\u001b[0m \u001b[0;34m=\u001b[0m \u001b[0m_deserialize_nested_config\u001b[0m\u001b[0;34m(\u001b[0m\u001b[0mlosses\u001b[0m\u001b[0;34m.\u001b[0m\u001b[0mdeserialize\u001b[0m\u001b[0;34m,\u001b[0m \u001b[0mloss_config\u001b[0m\u001b[0;34m)\u001b[0m\u001b[0;34m\u001b[0m\u001b[0;34m\u001b[0m\u001b[0m\n\u001b[0m\u001b[1;32m    144\u001b[0m             \u001b[0;31m# Ensure backwards compatibility for losses in legacy H5 files\u001b[0m\u001b[0;34m\u001b[0m\u001b[0;34m\u001b[0m\u001b[0m\n\u001b[1;32m    145\u001b[0m             \u001b[0mloss\u001b[0m \u001b[0;34m=\u001b[0m \u001b[0m_resolve_compile_arguments_compat\u001b[0m\u001b[0;34m(\u001b[0m\u001b[0mloss\u001b[0m\u001b[0;34m,\u001b[0m \u001b[0mloss_config\u001b[0m\u001b[0;34m,\u001b[0m \u001b[0mlosses\u001b[0m\u001b[0;34m)\u001b[0m\u001b[0;34m\u001b[0m\u001b[0;34m\u001b[0m\u001b[0m\n",
            "\u001b[0;32m/usr/local/lib/python3.11/dist-packages/keras/src/legacy/saving/saving_utils.py\u001b[0m in \u001b[0;36m_deserialize_nested_config\u001b[0;34m(deserialize_fn, config)\u001b[0m\n\u001b[1;32m    200\u001b[0m         \u001b[0;32mreturn\u001b[0m \u001b[0;32mNone\u001b[0m\u001b[0;34m\u001b[0m\u001b[0;34m\u001b[0m\u001b[0m\n\u001b[1;32m    201\u001b[0m     \u001b[0;32mif\u001b[0m \u001b[0m_is_single_object\u001b[0m\u001b[0;34m(\u001b[0m\u001b[0mconfig\u001b[0m\u001b[0;34m)\u001b[0m\u001b[0;34m:\u001b[0m\u001b[0;34m\u001b[0m\u001b[0;34m\u001b[0m\u001b[0m\n\u001b[0;32m--> 202\u001b[0;31m         \u001b[0;32mreturn\u001b[0m \u001b[0mdeserialize_fn\u001b[0m\u001b[0;34m(\u001b[0m\u001b[0mconfig\u001b[0m\u001b[0;34m)\u001b[0m\u001b[0;34m\u001b[0m\u001b[0;34m\u001b[0m\u001b[0m\n\u001b[0m\u001b[1;32m    203\u001b[0m     \u001b[0;32melif\u001b[0m \u001b[0misinstance\u001b[0m\u001b[0;34m(\u001b[0m\u001b[0mconfig\u001b[0m\u001b[0;34m,\u001b[0m \u001b[0mdict\u001b[0m\u001b[0;34m)\u001b[0m\u001b[0;34m:\u001b[0m\u001b[0;34m\u001b[0m\u001b[0;34m\u001b[0m\u001b[0m\n\u001b[1;32m    204\u001b[0m         return {\n",
            "\u001b[0;32m/usr/local/lib/python3.11/dist-packages/keras/src/losses/__init__.py\u001b[0m in \u001b[0;36mdeserialize\u001b[0;34m(name, custom_objects)\u001b[0m\n\u001b[1;32m    147\u001b[0m         \u001b[0mA\u001b[0m \u001b[0mKeras\u001b[0m\u001b[0;31m \u001b[0m\u001b[0;31m`\u001b[0m\u001b[0mLoss\u001b[0m\u001b[0;31m`\u001b[0m \u001b[0minstance\u001b[0m \u001b[0;32mor\u001b[0m \u001b[0ma\u001b[0m \u001b[0mloss\u001b[0m \u001b[0mfunction\u001b[0m\u001b[0;34m.\u001b[0m\u001b[0;34m\u001b[0m\u001b[0;34m\u001b[0m\u001b[0m\n\u001b[1;32m    148\u001b[0m     \"\"\"\n\u001b[0;32m--> 149\u001b[0;31m     return serialization_lib.deserialize_keras_object(\n\u001b[0m\u001b[1;32m    150\u001b[0m         \u001b[0mname\u001b[0m\u001b[0;34m,\u001b[0m\u001b[0;34m\u001b[0m\u001b[0;34m\u001b[0m\u001b[0m\n\u001b[1;32m    151\u001b[0m         \u001b[0mmodule_objects\u001b[0m\u001b[0;34m=\u001b[0m\u001b[0mALL_OBJECTS_DICT\u001b[0m\u001b[0;34m,\u001b[0m\u001b[0;34m\u001b[0m\u001b[0;34m\u001b[0m\u001b[0m\n",
            "\u001b[0;32m/usr/local/lib/python3.11/dist-packages/keras/src/saving/serialization_lib.py\u001b[0m in \u001b[0;36mdeserialize_keras_object\u001b[0;34m(config, custom_objects, safe_mode, **kwargs)\u001b[0m\n\u001b[1;32m    573\u001b[0m                 \u001b[0;32mreturn\u001b[0m \u001b[0mconfig\u001b[0m\u001b[0;34m\u001b[0m\u001b[0;34m\u001b[0m\u001b[0m\n\u001b[1;32m    574\u001b[0m             \u001b[0;32mif\u001b[0m \u001b[0misinstance\u001b[0m\u001b[0;34m(\u001b[0m\u001b[0mmodule_objects\u001b[0m\u001b[0;34m[\u001b[0m\u001b[0mconfig\u001b[0m\u001b[0;34m]\u001b[0m\u001b[0;34m,\u001b[0m \u001b[0mtypes\u001b[0m\u001b[0;34m.\u001b[0m\u001b[0mFunctionType\u001b[0m\u001b[0;34m)\u001b[0m\u001b[0;34m:\u001b[0m\u001b[0;34m\u001b[0m\u001b[0;34m\u001b[0m\u001b[0m\n\u001b[0;32m--> 575\u001b[0;31m                 return deserialize_keras_object(\n\u001b[0m\u001b[1;32m    576\u001b[0m                     serialize_with_public_fn(\n\u001b[1;32m    577\u001b[0m                         \u001b[0mmodule_objects\u001b[0m\u001b[0;34m[\u001b[0m\u001b[0mconfig\u001b[0m\u001b[0;34m]\u001b[0m\u001b[0;34m,\u001b[0m \u001b[0mconfig\u001b[0m\u001b[0;34m,\u001b[0m \u001b[0mfn_module_name\u001b[0m\u001b[0;34m\u001b[0m\u001b[0;34m\u001b[0m\u001b[0m\n",
            "\u001b[0;32m/usr/local/lib/python3.11/dist-packages/keras/src/saving/serialization_lib.py\u001b[0m in \u001b[0;36mdeserialize_keras_object\u001b[0;34m(config, custom_objects, safe_mode, **kwargs)\u001b[0m\n\u001b[1;32m    676\u001b[0m     \u001b[0;32mif\u001b[0m \u001b[0mclass_name\u001b[0m \u001b[0;34m==\u001b[0m \u001b[0;34m\"function\"\u001b[0m\u001b[0;34m:\u001b[0m\u001b[0;34m\u001b[0m\u001b[0;34m\u001b[0m\u001b[0m\n\u001b[1;32m    677\u001b[0m         \u001b[0mfn_name\u001b[0m \u001b[0;34m=\u001b[0m \u001b[0minner_config\u001b[0m\u001b[0;34m\u001b[0m\u001b[0;34m\u001b[0m\u001b[0m\n\u001b[0;32m--> 678\u001b[0;31m         return _retrieve_class_or_fn(\n\u001b[0m\u001b[1;32m    679\u001b[0m             \u001b[0mfn_name\u001b[0m\u001b[0;34m,\u001b[0m\u001b[0;34m\u001b[0m\u001b[0;34m\u001b[0m\u001b[0m\n\u001b[1;32m    680\u001b[0m             \u001b[0mregistered_name\u001b[0m\u001b[0;34m,\u001b[0m\u001b[0;34m\u001b[0m\u001b[0;34m\u001b[0m\u001b[0m\n",
            "\u001b[0;32m/usr/local/lib/python3.11/dist-packages/keras/src/saving/serialization_lib.py\u001b[0m in \u001b[0;36m_retrieve_class_or_fn\u001b[0;34m(name, registered_name, module, obj_type, full_config, custom_objects)\u001b[0m\n\u001b[1;32m    810\u001b[0m             \u001b[0;32mreturn\u001b[0m \u001b[0mobj\u001b[0m\u001b[0;34m\u001b[0m\u001b[0;34m\u001b[0m\u001b[0m\n\u001b[1;32m    811\u001b[0m \u001b[0;34m\u001b[0m\u001b[0m\n\u001b[0;32m--> 812\u001b[0;31m     raise TypeError(\n\u001b[0m\u001b[1;32m    813\u001b[0m         \u001b[0;34mf\"Could not locate {obj_type} '{name}'. \"\u001b[0m\u001b[0;34m\u001b[0m\u001b[0;34m\u001b[0m\u001b[0m\n\u001b[1;32m    814\u001b[0m         \u001b[0;34m\"Make sure custom classes are decorated with \"\u001b[0m\u001b[0;34m\u001b[0m\u001b[0;34m\u001b[0m\u001b[0m\n",
            "\u001b[0;31mTypeError\u001b[0m: Could not locate function 'mse'. Make sure custom classes are decorated with `@keras.saving.register_keras_serializable()`. Full object config: {'module': 'keras.metrics', 'class_name': 'function', 'config': 'mse', 'registered_name': 'mse'}"
          ]
        }
      ]
    },
    {
      "cell_type": "code",
      "execution_count": 17,
      "metadata": {
        "id": "RFn_wVHEBgVU",
        "colab": {
          "base_uri": "https://localhost:8080/",
          "height": 452
        },
        "outputId": "7cd00b74-787c-4bd6-fa6c-7225b19868a8"
      },
      "outputs": [
        {
          "output_type": "display_data",
          "data": {
            "text/plain": [
              "<Figure size 640x480 with 1 Axes>"
            ],
            "image/png": "[encoded data removed]"
          },
          "metadata": {}
        }
      ],
      "source": [
        "loss = history.history[\"root_mean_squared_error\"]\n",
        "val_loss = history.history[\"val_root_mean_squared_error\"]\n",
        "epochs = range(1, len(loss) + 1)\n",
        "plt.figure()\n",
        "plt.plot(epochs, loss, \"bo\", label=\"Training MAE\")\n",
        "plt.plot(epochs, val_loss, \"b\", label=\"Validation MAE\")\n",
        "plt.title(\"Training and validation MAE\")\n",
        "plt.legend()\n",
        "plt.show()"
      ]
    },
    {
      "cell_type": "markdown",
      "metadata": {
        "id": "t6Huv8qEGmGp"
      },
      "source": [
        "We have 420451 data points"
      ]
    },
    {
      "cell_type": "code",
      "execution_count": null,
      "metadata": {
        "id": "eAoxwu6DI4Qv"
      },
      "outputs": [],
      "source": [
        "X_train = raw_data[:num_train_samples]\n",
        "y_train = temperature[delay:num_train_samples + delay]\n",
        "\n",
        "X_valid = raw_data[num_train_samples: num_train_samples + num_valid_samples]\n",
        "y_valid = temperature[num_train_samples + delay: num_train_samples + num_valid_samples + delay]\n",
        "\n",
        "X_test = raw_data[num_train_samples + num_valid_samples:num_train_samples + num_valid_samples + num_test_samples]\n",
        "y_test = temperature[num_train_samples + num_valid_samples + delay:num_train_samples + num_valid_samples + num_test_samples + delay]"
      ]
    },
    {
      "cell_type": "code",
      "execution_count": null,
      "metadata": {
        "id": "klBt6z7qMFW7"
      },
      "outputs": [],
      "source": [
        "dtrain = xgb.Dmatrix(X_train, label=y_train)\n",
        "dval = xgb.Dmatrix(X_valid, label=y_valid)\n",
        "dtest = xgb.Dmatrix(X_test, label=y_test)"
      ]
    },
    {
      "cell_type": "code",
      "execution_count": null,
      "metadata": {
        "id": "M88sGcS9KSe7"
      },
      "outputs": [],
      "source": [
        "import xgboost as xgb\n",
        "\n",
        "params = {\n",
        "    'objective': 'reg:squarederror',\n",
        "    'eval_metric': 'rmse',\n",
        "    'learning_rate': 0.1,\n",
        "    'max_depth': 3,\n",
        "    'n_estimators': 100\n",
        "}\n",
        "\n",
        "watchlist = [(dtest, 'test'), (dval, 'valid')]\n",
        "\n",
        "evals_result = {}\n",
        "\n",
        "num_rounds = 100\n",
        "xgb_model = xgb.train(\n",
        "    params,\n",
        "    dtrain,\n",
        "    num_rounds,\n",
        "    evals = watchlist,\n",
        "    evals_result = evals_result,\n",
        "    early_stopping_rounds = 10\n",
        ")y\n",
        "\n",
        "train_rmse = evals_result['train']['rmse']\n",
        "valid_rmse = evals_result['valid']['rmse']"
      ]
    },
    {
      "cell_type": "code",
      "execution_count": null,
      "metadata": {
        "id": "iyEbtRnrOVJ1"
      },
      "outputs": [],
      "source": [
        "epochs = range(1, len(xgb_model) + 1)\n",
        "plt.figure()\n",
        "plt.plot(epochs, train_rmse, 'bo', label='Training RMSE')\n",
        "plt.plot(epochs, valid_rmse, 'b', label='Validation RMSE')\n",
        "plt.title('Training and Validation RMSE')\n",
        "plt.xlabel('Boosting Rounds')\n",
        "plt.ylabel('RMSE')\n",
        "plt.legend()\n",
        "plt.plot()"
      ]
    }
  ],
  "metadata": {
    "accelerator": "GPU",
    "colab": {
      "gpuType": "T4",
      "provenance": [],
      "authorship_tag": "ABX9TyNkOSXepRVdGymiGRbhka3+",
      "include_colab_link": true
    },
    "kernelspec": {
      "display_name": "Python 3",
      "name": "python3"
    },
    "language_info": {
      "name": "python"
    }
  },
  "nbformat": 4,
  "nbformat_minor": 0
}