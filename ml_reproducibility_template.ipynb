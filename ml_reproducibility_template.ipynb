{
 "cells": [
  {
   "cell_type": "markdown",
   "metadata": {},
   "source": [
    "# ML Reproducibility Template\n",
    "\n",
    "This notebook provides a template for ensuring reproducible machine learning experiments.\n",
    "\n",
    "## Features:\n",
    "-  Global seed configuration\n",
    "-  Deterministic behavior across TensorFlow\n",
    "-  Multiple experiment runs for stability testing"
   ]
  },
  {
   "cell_type": "markdown",
   "metadata": {},
   "source": [
    "## 1️⃣ Import Libraries and Global Configuration"
   ]
  },
  {
   "cell_type": "code",
   "execution_count": 1,
   "metadata": {},
   "outputs": [
    {
     "name": "stderr",
     "output_type": "stream",
     "text": [
      "/Users/romacarapetean/Library/Python/3.9/lib/python/site-packages/urllib3/__init__.py:35: NotOpenSSLWarning: urllib3 v2 only supports OpenSSL 1.1.1+, currently the 'ssl' module is compiled with 'LibreSSL 2.8.3'. See: https://github.com/urllib3/urllib3/issues/3020\n",
      "  warnings.warn(\n"
     ]
    }
   ],
   "source": [
    "import numpy as np\n",
    "import os\n",
    "import random\n",
    "import tensorflow as tf\n",
    "from tensorflow.keras.models import Sequential\n",
    "from tensorflow.keras.layers import Dense\n",
    "\n",
    "SEED = 42"
   ]
  },
  {
   "cell_type": "markdown",
   "metadata": {},
   "source": [
    "## 2️⃣ Seed Setting Function\n",
    "\n",
    "This function ensures reproducibility by setting random seeds for all major libraries."
   ]
  },
  {
   "cell_type": "code",
   "execution_count": 2,
   "metadata": {},
   "outputs": [
    {
     "name": "stdout",
     "output_type": "stream",
     "text": [
      "[INFO] Setting global seed to: 42\n"
     ]
    }
   ],
   "source": [
    "def set_seed(seed=SEED):\n",
    "    \"\"\"\n",
    "    Set random seeds for all major libraries to ensure reproducibility.\n",
    "    \n",
    "    Args:\n",
    "        seed (int): Random seed value to use across all libraries\n",
    "    \"\"\"\n",
    "    print(f\"[INFO] Setting global seed to: {seed}\")\n",
    "    random.seed(seed)\n",
    "    np.random.seed(seed)\n",
    "    tf.random.set_seed(seed)\n",
    "\n",
    "# Test the seed function\n",
    "set_seed(SEED)"
   ]
  },
  {
   "cell_type": "markdown",
   "metadata": {},
   "source": [
    "## 3️⃣ TensorFlow Model Training Function\n",
    "\n",
    "A minimal TensorFlow model for demonstrating reproducible training."
   ]
  },
  {
   "cell_type": "code",
   "execution_count": 3,
   "metadata": {},
   "outputs": [],
   "source": [
    "def train_tf_model():\n",
    "    \"\"\"\n",
    "    A minimal TensorFlow model for demonstration.\n",
    "    \"\"\"\n",
    "    # Example data\n",
    "    X = np.random.rand(100, 10)\n",
    "    y = np.random.randint(0, 2, 100)\n",
    "\n",
    "    model = Sequential([\n",
    "        Dense(16, activation='relu', input_shape=(10,)),\n",
    "        Dense(1, activation='sigmoid')\n",
    "    ])\n",
    "\n",
    "    model.compile(optimizer='adam', loss='binary_crossentropy', metrics=['accuracy'])\n",
    "    model.fit(X, y, epochs=5, batch_size=8, verbose=0)\n",
    "\n",
    "    _, acc = model.evaluate(X, y, verbose=0)\n",
    "    print(f\"[RESULT] Final accuracy: {acc:.4f}\")\n",
    "    return acc"
   ]
  },
  {
   "cell_type": "markdown",
   "metadata": {},
   "source": [
    "## 4️⃣ Reproducibility Testing Function\n",
    "\n",
    "This function runs experiments multiple times to test reproducibility and stability.\n",
    "\n",
    "### Understanding the \\`avg ± std\\` notation:\n",
    "- **\\`avg\\`**: Average (mean) result across all runs\n",
    "- **\\`std\\`**: Standard deviation (how much results vary)\n",
    "- **\\`±\\`**: \"Plus or minus\" - shows the range where most results fall\n",
    "- **Lower std = better reproducibility**"
   ]
  },
  {
   "cell_type": "code",
   "execution_count": 4,
   "metadata": {},
   "outputs": [],
   "source": [
    "def repeat_training(seed, runs=5):\n",
    "    \"\"\"\n",
    "    Run an experiment multiple times to check reproducibility.\n",
    "    \n",
    "    Args:\n",
    "        seed (int): Seed defined at the start of the project(42)\n",
    "        runs (int): Number of times to run the experiment\n",
    "    \"\"\"\n",
    "    \n",
    "    results = []\n",
    "    for run in range(runs):\n",
    "        print(f\"Run #{run+1}\")\n",
    "        set_seed(seed+run)\n",
    "        result = train_tf_model()\n",
    "        results.append(result)\n",
    "        \n",
    "    avg = np.mean(results)\n",
    "    std = np.std(results)\n",
    "    \n",
    "    print(f\"Average result over {run} runs: {avg:.4f} ± {std:.4f}\")"
   ]
  },
  {
   "cell_type": "markdown",
   "metadata": {},
   "source": [
    "## 5️⃣ Run the Reproducibility Experiment\n",
    "\n",
    "Let's test our model's reproducibility by running it multiple times!"
   ]
  },
  {
   "cell_type": "code",
   "execution_count": 6,
   "metadata": {},
   "outputs": [
    {
     "name": "stdout",
     "output_type": "stream",
     "text": [
      "[INFO] Setting global seed to: 42\n",
      "Run #1\n",
      "[INFO] Setting global seed to: 42\n"
     ]
    },
    {
     "name": "stderr",
     "output_type": "stream",
     "text": [
      "/Users/romacarapetean/Library/Python/3.9/lib/python/site-packages/keras/src/layers/core/dense.py:87: UserWarning: Do not pass an `input_shape`/`input_dim` argument to a layer. When using Sequential models, prefer using an `Input(shape)` object as the first layer in the model instead.\n",
      "  super().__init__(activity_regularizer=activity_regularizer, **kwargs)\n"
     ]
    },
    {
     "name": "stdout",
     "output_type": "stream",
     "text": [
      "[RESULT] Final accuracy: 0.5700\n",
      "Run #2\n",
      "[INFO] Setting global seed to: 43\n",
      "[RESULT] Final accuracy: 0.6300\n",
      "Run #3\n",
      "[INFO] Setting global seed to: 44\n",
      "[RESULT] Final accuracy: 0.5900\n",
      "Run #4\n",
      "[INFO] Setting global seed to: 45\n",
      "[RESULT] Final accuracy: 0.5900\n",
      "Run #5\n",
      "[INFO] Setting global seed to: 46\n",
      "[RESULT] Final accuracy: 0.4900\n",
      "Average result over 4 runs: 0.5740 ± 0.0463\n"
     ]
    }
   ],
   "source": [
    "if __name__ == \"__main__\":\n",
    "    set_seed()\n",
    "    \n",
    "   \n",
    "repeat_training(SEED, runs=5)"
   ]
  }
 ],
 "metadata": {
  "kernelspec": {
   "display_name": "Python 3",
   "language": "python",
   "name": "python3"
  },
  "language_info": {
   "codemirror_mode": {
    "name": "ipython",
    "version": 3
   },
   "file_extension": ".py",
   "mimetype": "text/x-python",
   "name": "python",
   "nbconvert_exporter": "python",
   "pygments_lexer": "ipython3",
   "version": "3.9.6"
  }
 },
 "nbformat": 4,
 "nbformat_minor": 4
}
